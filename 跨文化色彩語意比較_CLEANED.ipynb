{
 "cells": [
  {
   "cell_type": "markdown",
   "metadata": {
    "colab_type": "text",
    "id": "view-in-github"
   },
   "source": [
    "<a href=\"https://colab.research.google.com/github/shimo23333/CLIP-ColorCulture/blob/main/%E8%B7%A8%E6%96%87%E5%8C%96%E8%89%B2%E5%BD%A9%E8%AA%9E%E6%84%8F%E6%AF%94%E8%BC%83%EF%BC%9ACLIP%E4%B8%AD%E8%AA%9E%E8%A8%80%E5%B0%8D%E8%89%B2%E5%BD%A9%E7%90%86%E8%A7%A3%E7%9A%84%E5%B7%AE%E7%95%B0.ipynb\" target=\"_parent\"><img src=\"https://colab.research.google.com/assets/colab-badge.svg\" alt=\"Open In Colab\"/></a>"
   ]
  },
  {
   "cell_type": "code",
   "execution_count": null,
   "metadata": {
    "colab": {
     "base_uri": "https://localhost:8080/"
    },
    "collapsed": true,
    "id": "qqH8KD3ZKRlr",
    "outputId": "58a93517-7d8a-4225-d856-8e86d9615241"
   },
   "outputs": [
    {
     "name": "stdout",
     "output_type": "stream",
     "text": [
      "  Preparing metadata (setup.py) ... \u001b[?25l\u001b[?25hdone\n",
      "\u001b[2K   \u001b[90m━━━━━━━━━━━━━━━━━━━━━━━━━━━━━━━━━━━━━━━━\u001b[0m \u001b[32m44.8/44.8 kB\u001b[0m \u001b[31m2.2 MB/s\u001b[0m eta \u001b[36m0:00:00\u001b[0m\n",
      "\u001b[2K   \u001b[90m━━━━━━━━━━━━━━━━━━━━━━━━━━━━━━━━━━━━━━━━\u001b[0m \u001b[32m363.4/363.4 MB\u001b[0m \u001b[31m3.6 MB/s\u001b[0m eta \u001b[36m0:00:00\u001b[0m\n",
      "\u001b[2K   \u001b[90m━━━━━━━━━━━━━━━━━━━━━━━━━━━━━━━━━━━━━━━━\u001b[0m \u001b[32m13.8/13.8 MB\u001b[0m \u001b[31m26.5 MB/s\u001b[0m eta \u001b[36m0:00:00\u001b[0m\n",
      "\u001b[2K   \u001b[90m━━━━━━━━━━━━━━━━━━━━━━━━━━━━━━━━━━━━━━━━\u001b[0m \u001b[32m24.6/24.6 MB\u001b[0m \u001b[31m20.3 MB/s\u001b[0m eta \u001b[36m0:00:00\u001b[0m\n",
      "\u001b[2K   \u001b[90m━━━━━━━━━━━━━━━━━━━━━━━━━━━━━━━━━━━━━━━━\u001b[0m \u001b[32m883.7/883.7 kB\u001b[0m \u001b[31m24.1 MB/s\u001b[0m eta \u001b[36m0:00:00\u001b[0m\n",
      "\u001b[2K   \u001b[90m━━━━━━━━━━━━━━━━━━━━━━━━━━━━━━━━━━━━━━━━\u001b[0m \u001b[32m664.8/664.8 MB\u001b[0m \u001b[31m2.0 MB/s\u001b[0m eta \u001b[36m0:00:00\u001b[0m\n",
      "\u001b[2K   \u001b[90m━━━━━━━━━━━━━━━━━━━━━━━━━━━━━━━━━━━━━━━━\u001b[0m \u001b[32m211.5/211.5 MB\u001b[0m \u001b[31m6.7 MB/s\u001b[0m eta \u001b[36m0:00:00\u001b[0m\n",
      "\u001b[2K   \u001b[90m━━━━━━━━━━━━━━━━━━━━━━━━━━━━━━━━━━━━━━━━\u001b[0m \u001b[32m56.3/56.3 MB\u001b[0m \u001b[31m12.8 MB/s\u001b[0m eta \u001b[36m0:00:00\u001b[0m\n",
      "\u001b[2K   \u001b[90m━━━━━━━━━━━━━━━━━━━━━━━━━━━━━━━━━━━━━━━━\u001b[0m \u001b[32m127.9/127.9 MB\u001b[0m \u001b[31m7.5 MB/s\u001b[0m eta \u001b[36m0:00:00\u001b[0m\n",
      "\u001b[2K   \u001b[90m━━━━━━━━━━━━━━━━━━━━━━━━━━━━━━━━━━━━━━━━\u001b[0m \u001b[32m207.5/207.5 MB\u001b[0m \u001b[31m5.5 MB/s\u001b[0m eta \u001b[36m0:00:00\u001b[0m\n",
      "\u001b[2K   \u001b[90m━━━━━━━━━━━━━━━━━━━━━━━━━━━━━━━━━━━━━━━━\u001b[0m \u001b[32m21.1/21.1 MB\u001b[0m \u001b[31m88.2 MB/s\u001b[0m eta \u001b[36m0:00:00\u001b[0m\n",
      "\u001b[?25h  Building wheel for clip (setup.py) ... \u001b[?25l\u001b[?25hdone\n",
      "  Preparing metadata (setup.py) ... \u001b[?25l\u001b[?25hdone\n",
      "\u001b[2K   \u001b[90m━━━━━━━━━━━━━━━━━━━━━━━━━━━━━━━━━━━━━━━━\u001b[0m \u001b[32m55.1/55.1 kB\u001b[0m \u001b[31m4.0 MB/s\u001b[0m eta \u001b[36m0:00:00\u001b[0m\n",
      "\u001b[2K   \u001b[90m━━━━━━━━━━━━━━━━━━━━━━━━━━━━━━━━━━━━━━━━\u001b[0m \u001b[32m133.4/133.4 kB\u001b[0m \u001b[31m6.3 MB/s\u001b[0m eta \u001b[36m0:00:00\u001b[0m\n",
      "\u001b[2K   \u001b[90m━━━━━━━━━━━━━━━━━━━━━━━━━━━━━━━━━━━━━━━━\u001b[0m \u001b[32m42.6/42.6 kB\u001b[0m \u001b[31m3.3 MB/s\u001b[0m eta \u001b[36m0:00:00\u001b[0m\n",
      "\u001b[2K   \u001b[90m━━━━━━━━━━━━━━━━━━━━━━━━━━━━━━━━━━━━━━━━\u001b[0m \u001b[32m58.8/58.8 kB\u001b[0m \u001b[31m3.9 MB/s\u001b[0m eta \u001b[36m0:00:00\u001b[0m\n",
      "\u001b[2K   \u001b[90m━━━━━━━━━━━━━━━━━━━━━━━━━━━━━━━━━━━━━━━━\u001b[0m \u001b[32m65.0/65.0 kB\u001b[0m \u001b[31m5.0 MB/s\u001b[0m eta \u001b[36m0:00:00\u001b[0m\n",
      "\u001b[2K   \u001b[90m━━━━━━━━━━━━━━━━━━━━━━━━━━━━━━━━━━━━━━━━\u001b[0m \u001b[32m1.3/1.3 MB\u001b[0m \u001b[31m52.2 MB/s\u001b[0m eta \u001b[36m0:00:00\u001b[0m\n",
      "\u001b[2K   \u001b[90m━━━━━━━━━━━━━━━━━━━━━━━━━━━━━━━━━━━━━━━━\u001b[0m \u001b[32m53.6/53.6 kB\u001b[0m \u001b[31m3.0 MB/s\u001b[0m eta \u001b[36m0:00:00\u001b[0m\n",
      "\u001b[?25h  Building wheel for googletrans (setup.py) ... \u001b[?25l\u001b[?25hdone\n",
      "\u001b[31mERROR: pip's dependency resolver does not currently take into account all the packages that are installed. This behaviour is the source of the following dependency conflicts.\n",
      "langsmith 0.3.42 requires httpx<1,>=0.23.0, but you have httpx 0.13.3 which is incompatible.\n",
      "openai 1.81.0 requires httpx<1,>=0.23.0, but you have httpx 0.13.3 which is incompatible.\n",
      "google-genai 1.16.1 requires httpx<1.0.0,>=0.28.1, but you have httpx 0.13.3 which is incompatible.\u001b[0m\u001b[31m\n",
      "\u001b[2K   \u001b[90m━━━━━━━━━━━━━━━━━━━━━━━━━━━━━━━━━━━━━━━━\u001b[0m \u001b[32m1.6/1.6 MB\u001b[0m \u001b[31m52.5 MB/s\u001b[0m eta \u001b[36m0:00:00\u001b[0m\n",
      "\u001b[2K   \u001b[90m━━━━━━━━━━━━━━━━━━━━━━━━━━━━━━━━━━━━━━━━\u001b[0m \u001b[32m1.6/1.6 MB\u001b[0m \u001b[31m56.4 MB/s\u001b[0m eta \u001b[36m0:00:00\u001b[0m\n",
      "\u001b[?25hCell 1: 套件安裝完成。\n"
     ]
    }
   ],
   "source": [
    "# Cell 1: 安裝必要的 Python 套件\n",
    "# ==============================================================================\n",
    "!pip install -q git+https://github.com/openai/CLIP.git\n",
    "!pip install -q googletrans==4.0.0rc1\n",
    "!pip install -q scikit-image\n",
    "!pip install -q opencv-python # 新增 OpenCV 用於圖像分析\n",
    "!pip install -q diffusers transformers accelerate invisible-watermark safetensors\n",
    "!pip install -q ipywidgets\n",
    "\n",
    "print(\"Cell 1: 套件安裝完成。\")"
   ]
  },
  {
   "cell_type": "code",
   "execution_count": null,
   "metadata": {
    "colab": {
     "base_uri": "https://localhost:8080/"
    },
    "id": "8-1PgBc5VSiB",
    "outputId": "9538305b-83da-4d35-f3b8-e56a29c81037"
   },
   "outputs": [
    {
     "name": "stdout",
     "output_type": "stream",
     "text": [
      "Cell 2: 函式庫匯入完成。\n"
     ]
    }
   ],
   "source": [
    "# Cell 2: 匯入專案中會用到的所有 Python 模組\n",
    "# ==============================================================================\n",
    "import torch\n",
    "import clip\n",
    "from PIL import Image, ImageDraw, ImageFont\n",
    "from googletrans import Translator\n",
    "import matplotlib.pyplot as plt\n",
    "import numpy as np\n",
    "from sklearn.cluster import KMeans\n",
    "from skimage.color import rgb2lab\n",
    "import cv2 # 新增 OpenCV\n",
    "from diffusers import StableDiffusionPipeline\n",
    "import os\n",
    "from sklearn.metrics.pairwise import cosine_similarity\n",
    "from tqdm.notebook import tqdm\n",
    "import time\n",
    "import textwrap\n",
    "import matplotlib.font_manager as fm\n",
    "\n",
    "print(\"Cell 2: 函式庫匯入完成。\")"
   ]
  },
  {
   "cell_type": "code",
   "execution_count": null,
   "metadata": {
    "colab": {
     "base_uri": "https://localhost:8080/"
    },
    "id": "EJficdoMgRke",
    "outputId": "05139c59-d65d-45a9-9f51-75f22c136f2c"
   },
   "outputs": [
    {
     "name": "stdout",
     "output_type": "stream",
     "text": [
      "Cell 3: 正在設定 Matplotlib CJK 字體 (強化版)...\n",
      "  指定的 CJK 字體文件路徑不存在: /usr/share/fonts/opentype/noto/NotoSansCJKjp-Regular.otf. 回退到通用列表。\n",
      "Cell 3: Matplotlib CJK 字體設定完畢。\n"
     ]
    }
   ],
   "source": [
    "# Cell 3: 設定 Matplotlib 字體以支持中日韓 (CJK) 字符顯示 (強化版)\n",
    "# ==============================================================================\n",
    "print(\"Cell 3: 正在設定 Matplotlib CJK 字體 (強化版)...\")\n",
    "font_path_cjk = '/usr/share/fonts/opentype/noto/NotoSansCJKjp-Regular.otf'\n",
    "if os.path.exists(font_path_cjk):\n",
    "    try:\n",
    "        fm.fontManager.addfont(font_path_cjk)\n",
    "        prop = fm.FontProperties(fname=font_path_cjk)\n",
    "        font_name = prop.get_name()\n",
    "        plt.rcParams['font.family'] = font_name\n",
    "        plt.rcParams['axes.unicode_minus'] = False\n",
    "        print(f\"  已成功設定 CJK 字體為: {font_name}\")\n",
    "    except Exception as e:\n",
    "        print(f\"  設定字體 '{font_path_cjk}' 時發生錯誤: {e}. 回退到通用列表。\")\n",
    "        plt.rcParams['font.sans-serif'] = ['DejaVu Sans', 'SimHei', 'sans-serif']\n",
    "        plt.rcParams['axes.unicode_minus'] = False\n",
    "else:\n",
    "    print(f\"  指定的 CJK 字體文件路徑不存在: {font_path_cjk}. 回退到通用列表。\")\n",
    "    plt.rcParams['font.sans-serif'] = ['DejaVu Sans', 'SimHei', 'sans-serif']\n",
    "    plt.rcParams['axes.unicode_minus'] = False\n",
    "print(\"Cell 3: Matplotlib CJK 字體設定完畢。\")"
   ]
  },
  {
   "cell_type": "code",
   "execution_count": null,
   "metadata": {
    "colab": {
     "base_uri": "https://localhost:8080/"
    },
    "id": "D9Ha790FVUs4",
    "outputId": "417d5c45-4bab-4b61-d403-5af38b2e94eb"
   },
   "outputs": [
    {
     "name": "stdout",
     "output_type": "stream",
     "text": [
      "Cell 4: 本次運行的計算設備是: cuda\n"
     ]
    }
   ],
   "source": [
    "# Cell 4: 設定 PyTorch 的運算設備 (優先使用GPU)\n",
    "# ==============================================================================\n",
    "if torch.cuda.is_available(): device_to_use = \"cuda\"\n",
    "else: device_to_use = \"cpu\"\n",
    "print(f\"Cell 4: 本次運行的計算設備是: {device_to_use}\")\n",
    "if device_to_use == \"cpu\": print(\"警告：未使用GPU！運行大型AI模型會非常慢。\")"
   ]
  },
  {
   "cell_type": "code",
   "execution_count": null,
   "metadata": {
    "colab": {
     "base_uri": "https://localhost:8080/"
    },
    "id": "nHXyIRQgVVYI",
    "outputId": "ed1f7d1a-a144-4672-d0ff-0314c7e862be"
   },
   "outputs": [
    {
     "name": "stdout",
     "output_type": "stream",
     "text": [
      "Cell 5: 準備載入 CLIP 模型 (ViT-B/32)...\n"
     ]
    },
    {
     "name": "stderr",
     "output_type": "stream",
     "text": [
      "100%|████████████████████████████████████████| 338M/338M [00:01<00:00, 221MiB/s]\n"
     ]
    },
    {
     "name": "stdout",
     "output_type": "stream",
     "text": [
      "  CLIP 模型 (ViT-B/32) 已成功載入到 cuda！\n"
     ]
    }
   ],
   "source": [
    "# Cell 5: 載入 OpenAI CLIP 模型\n",
    "# ==============================================================================\n",
    "clip_model_name_to_load = \"ViT-B/32\"\n",
    "clip_model_instance, clip_image_preprocess_fn = None, None\n",
    "print(f\"Cell 5: 準備載入 CLIP 模型 ({clip_model_name_to_load})...\")\n",
    "if device_to_use == \"cuda\":\n",
    "    try:\n",
    "        clip_model_instance, clip_image_preprocess_fn = clip.load(clip_model_name_to_load, device=device_to_use)\n",
    "        clip_model_instance.eval()\n",
    "        print(f\"  CLIP 模型 ({clip_model_name_to_load}) 已成功載入到 {device_to_use}！\")\n",
    "        torch.cuda.empty_cache()\n",
    "    except Exception as e: print(f\"  載入CLIP模型時發生錯誤: {e}\")\n",
    "else: print(f\"  未實際載入CLIP模型，因為當前運算設備是 {device_to_use}。\")"
   ]
  },
  {
   "cell_type": "code",
   "execution_count": null,
   "metadata": {
    "colab": {
     "base_uri": "https://localhost:8080/",
     "height": 726,
     "referenced_widgets": [
      "f63e1a20488c43b8addbf004f131da3a",
      "ce15756d22134dfa90554ab89c79b284",
      "c5824577c43c4f77871752b29f0e608c",
      "21873ddf9e4a47af94b0500da6d662a2",
      "c1c4e3d2b88c4fb19e8cfd8ac9afa766",
      "94dffe78094f4ee5803c75df665d6fea",
      "722eebd5f47a49b18328a5020e1f96f9",
      "29e44c1f067047c7be31ce3e15ca87ce",
      "8454f77ea1d646bb86eb894bf2799636",
      "e04010b91659442896c9a16d3d750f7b",
      "8acc4ff1e7be41109077665c1a281367",
      "d8bc26e41fcc45d3bcfc060d8dffcaf1",
      "8947ec56019e451eaefd5b0e21080c1d",
      "944e2bc1319d4dcdbd768667effa32b4",
      "e45ecf8fafab45eb82d04784205a1387",
      "3f3260e98a8845cf83efaaa08a783a0b",
      "fa4fac52e1e047bca6ba5e7d6b388df5",
      "acc8f0e27cd147d48242380b83c1345d",
      "c6e4ffa57bfb4f5b8e2e1c62d536f23e",
      "994a0fd66ddc41b5a493cc1f81aecb3a",
      "77505c96577448ec8eaa90bb8877dd7c",
      "7b3be5038310473496d016d1ba905505",
      "430bcb7b22894e36933b9bfe91c79bc9",
      "8ea299ea5fa543959b6e1317ee1ab083",
      "ecc42ac41cd34678b77191689d6b7ba6",
      "e5c3eb6aacb24475aa2d14e423959660",
      "776d8a92f49d44058592bcb5d27b4b49",
      "2b4c684fa718479c94856874bcaaae66",
      "1fe87f013e1f490a990b7cd3b45e3011",
      "499ad020c2a14c57a3dad225c9fa314a",
      "55c9d43b2c9b4ad3bc04f892cecc9a7c",
      "cc2efe2b96404527bce34c50792319b5",
      "076444d5557b46f29eab9cbd52436f03",
      "a86ad1a725f74408b3d88c1e59df9f81",
      "bb4d7188e978444ea1177cfe00bdef61",
      "1214871220ed41d5bba33b404538b971",
      "27bdddd1b48f40fa8bd6ad8f8a589513",
      "463b3d01ef0c42a6afc31cd6cd36efb6",
      "b4f2ddcf857d451e8e5a97e4a947630d",
      "3043b859cf3b4d91ae36fa81651aa420",
      "fa5feb2e301a41b1a8900f9bf1fca90d",
      "fbcf4930709b4f7a9fa1392e539e7531",
      "72d47e46f35f49f1886a097d7c9edb79",
      "9b556003cefc45a3afe51a53f6415f46",
      "7025bd429e2b49a5a558661981025050",
      "9c3fa3b167854bafb644b8d60d5f8177",
      "8c67f3a2d4ed4472af4b70ee44e0db9d",
      "cd14b04505a14414a81b839d4ff1ea93",
      "6db6c15d095440cdb336aee64d341de8",
      "963840ea98eb4d828ae3542b6b143ed8",
      "92730dabce154c04a6365fc3f13a4d0d",
      "91fd22ea8ee244638c7e3b9dca9ad0b8",
      "6a1d2dd03de44ace95f46210288ca7a6",
      "d6128921a8fe452880275f4f1db539d9",
      "8cb6cf64ae1e4cbf99f491eb37c04856",
      "ef3568465eb9450a83bb77200ed0adbb",
      "6909ff44b16842b2bd6b9cec4499308e",
      "ddadbd2f6a5b401ead2a419d431a1006",
      "ed3a24b4f71846ea8296b0020d70fcd7",
      "513b15afcd0b4e97991d2456ed77bc24",
      "5f753f4ec0ea47309778a53459b285f0",
      "20085d6e490546cda0cfd60370303232",
      "64a4015af1434dd9b40fd90f9379015d",
      "ba8e080c66e54d73b47405e1ab2c424e",
      "2d69e1ac2c864ebeb083d67fbcde2e9a",
      "404659d6daa04d9d98780482cadd6a24",
      "ef4ef010803f4415920b6f8abcedd9e1",
      "6f95b38b950440ef8b0963f2161e7d3f",
      "00259ffeb90044e28dd03f4d1f7b82fb",
      "1de09d8411864ffca179011d1bf4c7fa",
      "9af94bcbac894a0e941328e88c6a5587",
      "4c985618f90f41ac963c2bd6d218ee02",
      "62bf85d6e7104cd2a7637b189658f771",
      "5ed8f90995ed4676a9d96a708b6a747d",
      "b10433e2c8e64f498b101276e33e3124",
      "254ff139c9374ae192d34ad7b27ce610",
      "10425434101148d4bbcc990cb1cf436f",
      "de38a3e261d946719308ceb078aa3c21",
      "f6e098b58d984042b409f48ae99a9cde",
      "dbf1d56dcb6b40c58c87120e64cc0f8e",
      "77d42473b9a34ae4ad86394313b0602c",
      "f39d6a597b304173bf452bae67323675",
      "b6cccea2345747f69eaf2e16b5a025bc",
      "6708c7e09c5f470e89554225245a4f92",
      "16d666a8b93f42ac89fb7a5a8dd548ea",
      "7253b8e2df23427e98b8af46bb961914",
      "a8a64cb7eb4a44c388a67334c11e3479",
      "b55151849a214ab3ac240416ca9711e9",
      "03c08cfd011e4e38b4a057c758410742",
      "3a26186865ad451cb8e8e1b1914566f1",
      "d5f5cf5fdb0e4df89eac043db48a5db1",
      "8ab0a42398874af4aaa22894bcb439f2",
      "1c83175325304798819fbf7dfa5c98ea",
      "a0498eb1a2134475852c46b16d3e8696",
      "87adf156577b43ec9d0932be2556ff38",
      "0c254b5852334bd5856612ee8ac8212c",
      "53b94d2411a04b8aaa8d49514045967b",
      "132b46975bd54cd1801fe1538aa22b27",
      "00756ffe2ded4c689764ee786a288d70",
      "baec1a73776d410896dfc44805ec1a9a",
      "fb45449b45954eccaabdb4119eaa5413",
      "8eb6ec9b4f60424e898680c4950d83f3",
      "d827923a2a7b4ca3a136a230ad454180",
      "7bc2201b1d0c49559dff0a28114addb9",
      "2689e79767bf488a92412110a054220c",
      "3889e078099e4451a1072d3ef2620693",
      "7f8d482cbf8c4be7a42461cf17b84d0d",
      "0b4f51c6f79a4b13a22c65812e69fab0",
      "298006210649457aaa0be4e3b483fa2a",
      "ca5818ddf6314de4bd4072c6658ecac2",
      "b89c3ef9210d4ee1ac6129db3861dbd1",
      "545c9cc43a9142f98f058b752fd5c698",
      "6136d6def4ae459e9c987714318986ab",
      "bd2a22d57d274bc8ada5f4e04c288a6a",
      "bf17d22a4f634a54b692fcf5587c14c2",
      "0ef44839631041538b4bb356a7ff552c",
      "104f8ece362046bda62156858ba7d17b",
      "a08b6f1103a6477a9cdb64805c966770",
      "b7f887a647b44f8aa87b2b8b816f3bd2",
      "80fc770571f94a96be0bbe55140b3552",
      "03903843d01a42c8b5d8509c490c1702",
      "758165fd8d564b2da45667cc3d5eed65",
      "95308032cfe54c30bb302da064542832",
      "5f33df3069d04d37abb0223d2fb43285",
      "380280083b1e4ca7b7902e9ef0f11fef",
      "085d8267d12f4effb6f5d75f06459fa0",
      "862c3bfcf5d24d8fb1828988c1d00781",
      "9160cdb3b80644c29529403034f6f800",
      "14b41547723a4b418b9d5f6c4d83c95a",
      "6913b1afab75452ab0643ba5bd294250",
      "15406835d9bc4684b0a68a41359f2657",
      "32eeac973e38425bbc46e0ffde6da2da",
      "169988941172427d9ae5500c51dfa41b",
      "bb8692928f064c6691bdb15116f85bef",
      "12d5511f7a9d49b58bd2bea13aa7b9fb",
      "5df3a6f876924432b2e9257820c1c923",
      "0f987bd248564d07aa4b5db67b0f7f7e",
      "13f03b0490c24dc697b83ed72c88889b",
      "1a96710f1f544ae1ae4f55f84faa8d66",
      "ebab92fe9c254c6e8f7b8e60f6fafe61",
      "e3d4ed9fd864409eacf659c6b71d8342",
      "fd72f68a267b4916807855e6aa1cdaa1",
      "2c19ad7760af41959070f1925e6c9b5a",
      "48116905910a45a7b6afa67360ecb49f",
      "56402639c7494d88b6fc1744f6cbc4cf",
      "0ec7cf09127c4326ba3c86c2897a2db8",
      "85193a35e85540a4b6275025e1d96cf1",
      "31f2ea879c7a4460a5ebeabc655b0b96",
      "d1801a7c39c74eb882282a8c469331e4",
      "7b7355e6908e4c44a9f153a1e8ee1e2c",
      "66f9e7dd4eb74223bbda291576cb63b2",
      "0deb2a5f4af348babed2b9d8e1131626",
      "feeed23dab0147aa9bcd88ffde4906c7",
      "45203d313b5f43e88882e8f1d4f75b27",
      "6fccd09783bf41b297071b85ae19fe1f",
      "b8ce0268146d49828460de4be402f3f0",
      "9e40f3e5919c4133bed44f64c687981c",
      "9917ca390c11495cac7b829cda0f318e",
      "6c7358347c0644e8b27899a260ebdebe",
      "9756a0cd9ff7484393da2cafdcb25bdb",
      "d8ac7f68661f41e2bb1c3992d716edd8",
      "b8abe5c959f04c41a024ec580c258b2e",
      "f98ce4816cb349518df0eacbb6d3c1ad",
      "0582a4b863524a9eb9f2312cc967df0b",
      "54f32c21fb84465e82190c287a23db5e",
      "de55e4f1359346cdb190f900eee82c41",
      "46b5520cc4ef4a16a5cd8bab53ecc486",
      "10c836b227aa4ddb8c7a93eda229a223",
      "6416d075d4bd454799dde8243109686e",
      "938d998a2cb34a80863588a44b6bdde5",
      "faee375ea9b543fcb24f4739af90e35e",
      "747e633c47984cf4bd77fdf50605d171",
      "b63ad13f754741daa8243ed481b61066",
      "d3a1d3ee83764cbd9ad86bc7219e581f",
      "d7ffcf9e277d4a39a443ac1d2f3a605a",
      "51c2c196cc9349a49c8388721eee51a2",
      "1f05b17f32d34eaf9545bb554fb9752a",
      "8a26aaeaba2f463fa14084b2494ddd34",
      "09c6fb4dbf244ce7b77c5f7185e9c62b",
      "2b1122d04c434f2b90c9909afbfe214f",
      "bb80e8ad413d4b53bb3cc496501aef77",
      "c6f0412807b14da0930d3cfd81903ced",
      "246c6702f2354898b300470283835438",
      "c47411b2e3184245b9ea64eff9ca5706",
      "0ae072dd691a4569961e1aa26bb4a5a1",
      "862745d25ef04f8f8222fa1a3fdd976d",
      "85fa78e13ca84b58b47742fbeb1e6cc4"
     ]
    },
    "id": "wsn9eKeLVXMA",
    "outputId": "19b2ce05-8a4a-47c2-be0b-c8d7886d777d"
   },
   "outputs": [
    {
     "name": "stdout",
     "output_type": "stream",
     "text": [
      "Cell 6: 準備載入 Stable Diffusion 模型 (runwayml/stable-diffusion-v1-5)...\n"
     ]
    },
    {
     "name": "stderr",
     "output_type": "stream",
     "text": [
      "/usr/local/lib/python3.11/dist-packages/huggingface_hub/utils/_auth.py:94: UserWarning: \n",
      "The secret `HF_TOKEN` does not exist in your Colab secrets.\n",
      "To authenticate with the Hugging Face Hub, create a token in your settings tab (https://huggingface.co/settings/tokens), set it as secret in your Google Colab and restart your session.\n",
      "You will be able to reuse this secret in all of your notebooks.\n",
      "Please note that authentication is recommended but still optional to access public models or datasets.\n",
      "  warnings.warn(\n"
     ]
    },
    {
     "data": {
      "application/vnd.jupyter.widget-view+json": {
       "model_id": "f63e1a20488c43b8addbf004f131da3a",
       "version_major": 2,
       "version_minor": 0
      },
      "text/plain": [
       "model_index.json:   0%|          | 0.00/541 [00:00<?, ?B/s]"
      ]
     },
     "metadata": {},
     "output_type": "display_data"
    },
    {
     "data": {
      "application/vnd.jupyter.widget-view+json": {
       "model_id": "d8bc26e41fcc45d3bcfc060d8dffcaf1",
       "version_major": 2,
       "version_minor": 0
      },
      "text/plain": [
       "Fetching 15 files:   0%|          | 0/15 [00:00<?, ?it/s]"
      ]
     },
     "metadata": {},
     "output_type": "display_data"
    },
    {
     "data": {
      "application/vnd.jupyter.widget-view+json": {
       "model_id": "430bcb7b22894e36933b9bfe91c79bc9",
       "version_major": 2,
       "version_minor": 0
      },
      "text/plain": [
       "model.safetensors:   0%|          | 0.00/492M [00:00<?, ?B/s]"
      ]
     },
     "metadata": {},
     "output_type": "display_data"
    },
    {
     "data": {
      "application/vnd.jupyter.widget-view+json": {
       "model_id": "a86ad1a725f74408b3d88c1e59df9f81",
       "version_major": 2,
       "version_minor": 0
      },
      "text/plain": [
       "preprocessor_config.json:   0%|          | 0.00/342 [00:00<?, ?B/s]"
      ]
     },
     "metadata": {},
     "output_type": "display_data"
    },
    {
     "data": {
      "application/vnd.jupyter.widget-view+json": {
       "model_id": "7025bd429e2b49a5a558661981025050",
       "version_major": 2,
       "version_minor": 0
      },
      "text/plain": [
       "config.json:   0%|          | 0.00/617 [00:00<?, ?B/s]"
      ]
     },
     "metadata": {},
     "output_type": "display_data"
    },
    {
     "data": {
      "application/vnd.jupyter.widget-view+json": {
       "model_id": "ef3568465eb9450a83bb77200ed0adbb",
       "version_major": 2,
       "version_minor": 0
      },
      "text/plain": [
       "scheduler_config.json:   0%|          | 0.00/308 [00:00<?, ?B/s]"
      ]
     },
     "metadata": {},
     "output_type": "display_data"
    },
    {
     "data": {
      "application/vnd.jupyter.widget-view+json": {
       "model_id": "ef4ef010803f4415920b6f8abcedd9e1",
       "version_major": 2,
       "version_minor": 0
      },
      "text/plain": [
       "config.json:   0%|          | 0.00/4.72k [00:00<?, ?B/s]"
      ]
     },
     "metadata": {},
     "output_type": "display_data"
    },
    {
     "data": {
      "application/vnd.jupyter.widget-view+json": {
       "model_id": "de38a3e261d946719308ceb078aa3c21",
       "version_major": 2,
       "version_minor": 0
      },
      "text/plain": [
       "special_tokens_map.json:   0%|          | 0.00/472 [00:00<?, ?B/s]"
      ]
     },
     "metadata": {},
     "output_type": "display_data"
    },
    {
     "data": {
      "application/vnd.jupyter.widget-view+json": {
       "model_id": "03c08cfd011e4e38b4a057c758410742",
       "version_major": 2,
       "version_minor": 0
      },
      "text/plain": [
       "merges.txt:   0%|          | 0.00/525k [00:00<?, ?B/s]"
      ]
     },
     "metadata": {},
     "output_type": "display_data"
    },
    {
     "data": {
      "application/vnd.jupyter.widget-view+json": {
       "model_id": "baec1a73776d410896dfc44805ec1a9a",
       "version_major": 2,
       "version_minor": 0
      },
      "text/plain": [
       "model.safetensors:   0%|          | 0.00/1.22G [00:00<?, ?B/s]"
      ]
     },
     "metadata": {},
     "output_type": "display_data"
    },
    {
     "data": {
      "application/vnd.jupyter.widget-view+json": {
       "model_id": "b89c3ef9210d4ee1ac6129db3861dbd1",
       "version_major": 2,
       "version_minor": 0
      },
      "text/plain": [
       "tokenizer_config.json:   0%|          | 0.00/806 [00:00<?, ?B/s]"
      ]
     },
     "metadata": {},
     "output_type": "display_data"
    },
    {
     "data": {
      "application/vnd.jupyter.widget-view+json": {
       "model_id": "758165fd8d564b2da45667cc3d5eed65",
       "version_major": 2,
       "version_minor": 0
      },
      "text/plain": [
       "vocab.json:   0%|          | 0.00/1.06M [00:00<?, ?B/s]"
      ]
     },
     "metadata": {},
     "output_type": "display_data"
    },
    {
     "data": {
      "application/vnd.jupyter.widget-view+json": {
       "model_id": "169988941172427d9ae5500c51dfa41b",
       "version_major": 2,
       "version_minor": 0
      },
      "text/plain": [
       "config.json:   0%|          | 0.00/547 [00:00<?, ?B/s]"
      ]
     },
     "metadata": {},
     "output_type": "display_data"
    },
    {
     "data": {
      "application/vnd.jupyter.widget-view+json": {
       "model_id": "48116905910a45a7b6afa67360ecb49f",
       "version_major": 2,
       "version_minor": 0
      },
      "text/plain": [
       "diffusion_pytorch_model.safetensors:   0%|          | 0.00/3.44G [00:00<?, ?B/s]"
      ]
     },
     "metadata": {},
     "output_type": "display_data"
    },
    {
     "data": {
      "application/vnd.jupyter.widget-view+json": {
       "model_id": "6fccd09783bf41b297071b85ae19fe1f",
       "version_major": 2,
       "version_minor": 0
      },
      "text/plain": [
       "config.json:   0%|          | 0.00/743 [00:00<?, ?B/s]"
      ]
     },
     "metadata": {},
     "output_type": "display_data"
    },
    {
     "data": {
      "application/vnd.jupyter.widget-view+json": {
       "model_id": "de55e4f1359346cdb190f900eee82c41",
       "version_major": 2,
       "version_minor": 0
      },
      "text/plain": [
       "diffusion_pytorch_model.safetensors:   0%|          | 0.00/335M [00:00<?, ?B/s]"
      ]
     },
     "metadata": {},
     "output_type": "display_data"
    },
    {
     "data": {
      "application/vnd.jupyter.widget-view+json": {
       "model_id": "1f05b17f32d34eaf9545bb554fb9752a",
       "version_major": 2,
       "version_minor": 0
      },
      "text/plain": [
       "Loading pipeline components...:   0%|          | 0/7 [00:00<?, ?it/s]"
      ]
     },
     "metadata": {},
     "output_type": "display_data"
    },
    {
     "name": "stdout",
     "output_type": "stream",
     "text": [
      "  Stable Diffusion 模型 (runwayml/stable-diffusion-v1-5) 已成功載入到 cuda！\n"
     ]
    }
   ],
   "source": [
    "# Cell 6: 載入 Stable Diffusion 圖像生成模型\n",
    "# ==============================================================================\n",
    "sd_model_id_to_load = \"runwayml/stable-diffusion-v1-5\"\n",
    "image_generation_pipeline = None\n",
    "print(f\"Cell 6: 準備載入 Stable Diffusion 模型 ({sd_model_id_to_load})...\")\n",
    "if device_to_use == \"cuda\":\n",
    "    try:\n",
    "        image_generation_pipeline = StableDiffusionPipeline.from_pretrained(sd_model_id_to_load, torch_dtype=torch.float16)\n",
    "        image_generation_pipeline = image_generation_pipeline.to(device_to_use)\n",
    "        print(f\"  Stable Diffusion 模型 ({sd_model_id_to_load}) 已成功載入到 {device_to_use}！\")\n",
    "        torch.cuda.empty_cache()\n",
    "    except Exception as e: print(f\"  載入Stable Diffusion模型時發生錯誤: {e}\")\n",
    "else: print(f\"  未實際載入Stable Diffusion模型，因為當前運算設備是 {device_to_use}。\")"
   ]
  },
  {
   "cell_type": "code",
   "execution_count": null,
   "metadata": {
    "colab": {
     "base_uri": "https://localhost:8080/"
    },
    "id": "PoNRlZFNVZZg",
    "outputId": "e2cf518d-1e4c-45ab-ae9d-ee3b7651fcd1"
   },
   "outputs": [
    {
     "name": "stdout",
     "output_type": "stream",
     "text": [
      "Cell 7: 正在初始化 Google 翻譯工具...\n",
      "  Google 翻譯工具初始化成功！測試翻譯 '你好' -> 'Hello'\n"
     ]
    }
   ],
   "source": [
    "# Cell 7: 初始化 Google 翻譯工具\n",
    "# ==============================================================================\n",
    "google_translator_instance = None\n",
    "print(\"Cell 7: 正在初始化 Google 翻譯工具...\")\n",
    "try:\n",
    "    google_translator_instance = Translator()\n",
    "    test_text = \"你好\"; translated_test_text = google_translator_instance.translate(test_text, src='zh-cn', dest='en').text\n",
    "    print(f\"  Google 翻譯工具初始化成功！測試翻譯 '{test_text}' -> '{translated_test_text}'\")\n",
    "except Exception as e: print(f\"  Google 翻譯工具初始化失敗: {e}\")"
   ]
  },
  {
   "cell_type": "code",
   "execution_count": null,
   "metadata": {
    "colab": {
     "base_uri": "https://localhost:8080/"
    },
    "id": "fHnIsdO9VYtI",
    "outputId": "20f5304f-4157-4789-e857-81413cd6c424"
   },
   "outputs": [
    {
     "name": "stdout",
     "output_type": "stream",
     "text": [
      "Cell 8: 定義了 12 個詞彙概念用於本次分析。\n"
     ]
    }
   ],
   "source": [
    "# Cell 8: 定義專案要分析的詞彙概念及其多語言翻譯\n",
    "# ==============================================================================\n",
    "word_concepts_list = [\n",
    "    {\"concept_name\": \"cool_ambiguous\", \"base_chinese\": \"酷 / 涼爽\", \"translations\": {\"zh\": \"冰涼的飲料，酷炫的風格，冷靜的態度\", \"en\": \"cool refreshing drink, cool stylish look, calm and cool attitude\", \"ja\": \"冷たい飲み物、かっこいいスタイル、冷静な態度\", \"ko\": \"시원한 음료, 멋진 스타일, 침착한 태도\"}},\n",
    "    {\"concept_name\": \"soft_ambiguous\", \"base_chinese\": \"柔軟\", \"translations\": {\"zh\": \"柔軟，溫和的觸感，蓬鬆的雲朵\", \"en\": \"soft, gentle touch, fluffy clouds\", \"ja\": \"柔らかい、優しい手触り、ふわふわの雲\", \"ko\": \"부드럽다, 순한 촉감, 푹신한 구름\"}},\n",
    "    {\"concept_name\": \"bright_ambiguous\", \"base_chinese\": \"明亮\", \"translations\": {\"zh\": \"明亮的光線，充滿希望的未來，聰明睿智的想法\", \"en\": \"bright light, hopeful future, intelligent idea\", \"ja\": \"明るい光、希望に満ちた未来、賢いアイデア\", \"ko\": \"밝은 빛, 희망찬 미래, 똑똑한 생각\"}},\n",
    "    {\"concept_name\": \"dark_ambiguous\", \"base_chinese\": \"黑暗\", \"translations\": {\"zh\": \"漆黑的夜晚，神秘的森林深處，陰沉憂鬱的心情\", \"en\": \"dark night, mysterious deep forest, gloomy mood\", \"ja\": \"漆黒の夜、神秘的な森の奥、陰鬱な気分\", \"ko\": \"칠흑 같은 밤, 신비로운 깊은 숲, 침울한 기분\"}},\n",
    "    {\"concept_name\": \"pure_ambiguous\", \"base_chinese\": \"純潔\", \"translations\": {\"zh\": \"純潔的心靈，單純的想法，純淨無瑕的白色\", \"en\": \"pure heart, simple idea, pristine flawless white\", \"ja\": \"純粋な心、単純な考え、清らかで無垢な白\", \"ko\": \"순수한 마음, 단순한 생각, 깨끗하고 티없는 흰색\"}},\n",
    "    {\"concept_name\": \"warm_ambiguous\", \"base_chinese\": \"溫暖\", \"translations\": {\"zh\": \"溫暖的陽光灑在身上，壁爐裡溫暖的火焰，熱情的款待\", \"en\": \"warm sunshine on the skin, cozy fireplace flames, enthusiastic hospitality\", \"ja\": \"肌に注ぐ暖かい日差し、暖炉の暖かい炎、情熱的なもてなし\", \"ko\": \"피부에 내리쬐는 따뜻한 햇살, 벽난로의 따뜻한 불꽃, 열정적인 환대\"}},\n",
    "    {\"concept_name\": \"happy_clear\", \"base_chinese\": \"快樂\", \"translations\": {\"zh\": \"陽光明媚的日子裡孩子們快樂的笑容，五彩繽紛的派對氣球\", \"en\": \"children's happy smiles on a sunny day, colorful party balloons\", \"ja\": \"晴れた日の子供たちの幸せな笑顔、カラフルなパーティーバルーン\", \"ko\": \"화창한 날 아이들의 행복한 미소, 다채로운 파티 풍선\"}},\n",
    "    {\"concept_name\": \"angry_clear\", \"base_chinese\": \"生氣\", \"translations\": {\"zh\": \"因為不公正而生氣的表情，緊握的拳頭，火山爆發的瞬間\", \"en\": \"angry expression due to injustice, clenched fists, moment of volcanic eruption\", \"ja\": \"不正に対する怒りの表情、握りしめた拳、火山噴火の瞬間\", \"ko\": \"불의로 인한 화난 표정, 꽉 쥔 주먹, 화산 폭발의 순간\"}},\n",
    "    {\"concept_name\": \"sad_clear\", \"base_chinese\": \"傷心\", \"translations\": {\"zh\": \"因為失去而傷心的眼淚，陰雨連綿的窗外，孤獨的流浪貓\", \"en\": \"sad tears shed for a loss, continuous rainy weather outside the window, a lonely stray cat\", \"ja\": \"喪失による悲しい涙、窓の外の長引く雨天、孤独な野良猫\", \"ko\": \"상실감에 흘리는 슬픈 눈물, 창밖의 계속되는 비 오는 날씨, 외로운 길고양이\"}},\n",
    "    {\"concept_name\": \"surprised_clear\", \"base_chinese\": \"驚訝\", \"translations\": {\"zh\": \"收到意想不到的生日驚喜時驚訝的表情，魔術師的奇妙戲法\", \"en\": \"surprised expression upon receiving an unexpected birthday surprise, a magician's wonderful trick\", \"ja\": \"予期せぬ誕生日サプライズに驚いた表情、マジシャンの見事な手品\", \"ko\": \"예상치 못한 생일 서프라이즈를 받았을 때 놀란 표정, 마술사의 멋진 마술\"}},\n",
    "    {\"concept_name\": \"hungry_clear\", \"base_chinese\": \"餓\", \"translations\": {\"zh\": \"肚子餓得咕咕叫，餐桌上豐盛美味的晚餐\", \"en\": \"stomach rumbling with hunger, a hearty and delicious dinner on the table\", \"ja\": \"お腹が空いてグーグー鳴る、食卓の上の豊かで美味しい夕食\", \"ko\": \"배가 고파 꼬르륵 소리가 나다, 식탁 위의 푸짐하고 맛있는 저녁 식사\"}},\n",
    "    {\"concept_name\": \"tired_clear\", \"base_chinese\": \"疲憊\", \"translations\": {\"zh\": \"長時間工作後感到身心疲憊，舒適柔軟的床鋪\", \"en\": \"feeling mentally and physically exhausted after long hours of work, a comfortable and soft bed\", \"ja\": \"長時間の仕事の後で心身ともに疲れ果てた、快適で柔らかいベッド\", \"ko\": \"장시간 작업 후 심신이 지친 상태, 편안하고 부드러운 침대\"}},\n",
    "]\n",
    "# word_concepts_to_process = [word_concepts_list[0], word_concepts_list[2]] # 測試時用少量詞彙\n",
    "word_concepts_to_process = word_concepts_list\n",
    "print(f\"Cell 8: 定義了 {len(word_concepts_to_process)} 個詞彙概念用於本次分析。\")"
   ]
  },
  {
   "cell_type": "code",
   "execution_count": null,
   "metadata": {
    "colab": {
     "base_uri": "https://localhost:8080/"
    },
    "id": "08lwE_KgVcDY",
    "outputId": "e3ab8e21-a157-4dc5-bc21-e5b6f2909576"
   },
   "outputs": [
    {
     "name": "stdout",
     "output_type": "stream",
     "text": [
      "輔助函式 `get_clip_text_embeddings_vector` 定義完成。\n"
     ]
    }
   ],
   "source": [
    "# Cell 9: 輔助函式 - 獲取文本的 CLIP 語義嵌入向量\n",
    "# ------------------------------------------------------------------------------\n",
    "# 這個函式使用 CLIP 模型為輸入的各語言文本計算其語義嵌入向量。\n",
    "def get_clip_text_embeddings_vector(text_prompts_dict, loaded_clip_model, computation_device):\n",
    "    if loaded_clip_model is None:\n",
    "        return {lang_code: np.zeros(512, dtype=np.float32) for lang_code in text_prompts_dict}\n",
    "    text_embeddings_result_dict = {}\n",
    "    with torch.no_grad():\n",
    "        for lang_tag, text_content in text_prompts_dict.items():\n",
    "            try:\n",
    "                tokenized_input_text = clip.tokenize([text_content]).to(computation_device)\n",
    "                text_semantic_features = loaded_clip_model.encode_text(tokenized_input_text)\n",
    "                text_semantic_features /= text_semantic_features.norm(dim=-1, keepdim=True)\n",
    "                text_embeddings_result_dict[lang_tag] = text_semantic_features.cpu().numpy().flatten()\n",
    "            except Exception as e:\n",
    "                print(f\"為 '{lang_tag}':'{text_content[:30]}...' 生成CLIP嵌入時出錯: {e}\")\n",
    "                text_embeddings_result_dict[lang_tag] = np.zeros(512, dtype=np.float32)\n",
    "    return text_embeddings_result_dict\n",
    "print(\"輔助函式 `get_clip_text_embeddings_vector` 定義完成。\")"
   ]
  },
  {
   "cell_type": "code",
   "execution_count": null,
   "metadata": {
    "colab": {
     "base_uri": "https://localhost:8080/"
    },
    "id": "b-X2T_L4VeXx",
    "outputId": "a6ddbc26-6d4d-4b38-81bf-79acf3175185"
   },
   "outputs": [
    {
     "name": "stdout",
     "output_type": "stream",
     "text": [
      "Cell 10: 輔助函式 `calculate_and_print_embedding_similarity` 定義完成。\n"
     ]
    }
   ],
   "source": [
    "# Cell 10: 輔助函式 - 計算並打印 CLIP 嵌入向量之間的餘弦相似度\n",
    "# ==============================================================================\n",
    "def calculate_and_print_embedding_similarity(embeddings_dict, reference_lang='en'):\n",
    "    similarity_scores_result = {}\n",
    "    if reference_lang not in embeddings_dict or np.all(np.isclose(embeddings_dict[reference_lang], 0)):\n",
    "        return {f\"{reference_lang}_vs_{lang}\": None for lang in embeddings_dict if lang != reference_lang}\n",
    "    print(f\"  CLIP文本嵌入向量餘弦相似度 (vs '{reference_lang.upper()}'):\")\n",
    "    ref_embedding = embeddings_dict[reference_lang].reshape(1, -1)\n",
    "    for lang, emb in embeddings_dict.items():\n",
    "        if lang == reference_lang: continue\n",
    "        sim_val_str, sim_num = \"N/A (嵌入無效)\", None\n",
    "        if not np.all(np.isclose(emb, 0)):\n",
    "            sim_num = cosine_similarity(ref_embedding, emb.reshape(1, -1))[0][0]\n",
    "            sim_val_str = f\"{sim_num:.3f}\"\n",
    "        similarity_scores_result[f\"{reference_lang}_vs_{lang}\"] = sim_num\n",
    "        print(f\"    - 與 {lang.upper()}: {sim_val_str}\")\n",
    "    return similarity_scores_result\n",
    "print(\"Cell 10: 輔助函式 `calculate_and_print_embedding_similarity` 定義完成。\")"
   ]
  },
  {
   "cell_type": "code",
   "execution_count": null,
   "metadata": {
    "colab": {
     "base_uri": "https://localhost:8080/"
    },
    "id": "7FD9ty7FVfFY",
    "outputId": "3e92415f-5fcf-4140-af66-25905965a634"
   },
   "outputs": [
    {
     "name": "stdout",
     "output_type": "stream",
     "text": [
      "Cell 11: 輔助函式 `generate_actual_image_with_sd` 定義完成。\n"
     ]
    }
   ],
   "source": [
    "# Cell 11: 輔助函式 - 使用 Stable Diffusion 生成真實圖像\n",
    "# ==============================================================================\n",
    "def generate_actual_image_with_sd(prompt_text, sd_pipeline, random_seed=42, inference_steps=30, cfg_scale=7.5, computation_device=\"cuda\"):\n",
    "    if sd_pipeline is None:\n",
    "        placeholder_img = Image.new('RGB', (512,512), color='silver'); draw = ImageDraw.Draw(placeholder_img)\n",
    "        try: font = ImageFont.truetype(\"DejaVuSans.ttf\",18)\n",
    "        except: font = ImageFont.load_default()\n",
    "        draw.text((10,10), f\"模型未載入\\n提示:\\n{prompt_text[:70]}...\", fill=(60,60,60), font=font); return placeholder_img\n",
    "    try:\n",
    "        gen = torch.Generator(device=computation_device).manual_seed(random_seed)\n",
    "        with torch.no_grad(): img = sd_pipeline(prompt_text, num_inference_steps=inference_steps, guidance_scale=cfg_scale, generator=gen).images[0]\n",
    "        return img\n",
    "    except Exception as e:\n",
    "        print(f\"  生成圖像時出錯 ('{prompt_text[:40]}...'): {e}\"); error_img = Image.new('RGB', (512,512), color='lightcoral'); draw=ImageDraw.Draw(error_img)\n",
    "        try: font = ImageFont.truetype(\"DejaVuSans.ttf\",15)\n",
    "        except: font = ImageFont.load_default()\n",
    "        draw.text((10,10), f\"圖像生成錯誤:\\n{prompt_text[:60]}...\\n錯誤:\\n{str(e)[:100]}\", fill=(0,0,0),font=font); return error_img\n",
    "print(\"Cell 11: 輔助函式 `generate_actual_image_with_sd` 定義完成。\")"
   ]
  },
  {
   "cell_type": "code",
   "execution_count": null,
   "metadata": {
    "colab": {
     "base_uri": "https://localhost:8080/"
    },
    "id": "ynCrt_PoVgio",
    "outputId": "86731c41-1bae-42cf-f75e-efd10a057357"
   },
   "outputs": [
    {
     "name": "stdout",
     "output_type": "stream",
     "text": [
      "Cell 12: 輔助函式 `extract_dominant_colors_from_image` 定義完成。\n"
     ]
    }
   ],
   "source": [
    "# Cell 12: 輔助函式 - 從圖像中提取主要顏色 (RGB 和 Lab)\n",
    "# ==============================================================================\n",
    "def extract_dominant_colors_from_image(pil_img, num_colors=5):\n",
    "    if pil_img is None or pil_img.width < num_colors or pil_img.height < num_colors:\n",
    "        rgb = np.array([[128,128,128]]*num_colors, dtype=int); lab = rgb2lab(rgb/255.0).reshape(-1,3); return rgb, lab\n",
    "    try:\n",
    "        img_rgb = pil_img.convert('RGB'); max_dim = 150\n",
    "        ratio = max_dim/max(img_rgb.width, img_rgb.height); new_size=(max(1,int(img_rgb.width*ratio)),max(1,int(img_rgb.height*ratio)))\n",
    "        img_res = img_rgb.resize(new_size, Image.Resampling.LANCZOS); pixels = np.array(img_res).reshape(-1,3)\n",
    "        if pixels.shape[0] < num_colors:\n",
    "            rgb = np.zeros((num_colors,3),dtype=int); actual_rgb = pixels.astype(int)\n",
    "            rgb[:actual_rgb.shape[0]] = actual_rgb\n",
    "            if actual_rgb.shape[0] < num_colors: rgb[actual_rgb.shape[0]:] = np.array([128,128,128])\n",
    "        else:\n",
    "            kmeans = KMeans(n_clusters=num_colors,random_state=0,n_init='auto',max_iter=200).fit(pixels)\n",
    "            rgb = kmeans.cluster_centers_.astype(int)\n",
    "        lab = rgb2lab(rgb.reshape((num_colors,1,3))/255.0).reshape((num_colors,3))\n",
    "        return rgb, lab\n",
    "    except Exception as e:\n",
    "        print(f\"  提取主色調時出錯: {e}\"); rgb_err = np.array([[100,100,100]]*num_colors,dtype=int); lab_err = rgb2lab(rgb_err/255.0).reshape(-1,3); return rgb_err, lab_err\n",
    "print(\"Cell 12: 輔助函式 `extract_dominant_colors_from_image` 定義完成。\")"
   ]
  },
  {
   "cell_type": "code",
   "execution_count": null,
   "metadata": {
    "colab": {
     "base_uri": "https://localhost:8080/"
    },
    "id": "BMmrvkN9gqLe",
    "outputId": "f940d1eb-242f-47b6-e024-af7f9a30346e"
   },
   "outputs": [
    {
     "name": "stdout",
     "output_type": "stream",
     "text": [
      "Cell 12.5: 輔助函式 `analyze_global_image_features` 定義完成。\n"
     ]
    }
   ],
   "source": [
    "# Cell 13: (新增) 輔助函式 - 分析圖像的全局特徵 (亮度、對比度、飽和度)\n",
    "# ==============================================================================\n",
    "def analyze_global_image_features(pil_image):\n",
    "    if pil_image is None: return {\"avg_brightness\": \"N/A\", \"contrast_std\": \"N/A\", \"avg_saturation\": \"N/A\"}\n",
    "    try:\n",
    "        cv_bgr = np.array(pil_image.convert('RGB'))[:,:,::-1].copy()\n",
    "        gray = cv2.cvtColor(cv_bgr, cv2.COLOR_BGR2GRAY)\n",
    "        brightness = round(np.mean(gray), 2)\n",
    "        contrast = round(np.std(gray), 2)\n",
    "        hsv = cv2.cvtColor(cv_bgr, cv2.COLOR_BGR2HSV)\n",
    "        saturation = round(np.mean(hsv[:,:,1]), 2)\n",
    "        return {\"avg_brightness\": brightness, \"contrast_std\": contrast, \"avg_saturation\": saturation}\n",
    "    except Exception as e: print(f\"  分析全局圖像特徵時出錯: {e}\"); return {\"avg_brightness\":\"Err\",\"contrast_std\":\"Err\",\"avg_saturation\":\"Err\"}\n",
    "print(\"Cell 12.5: 輔助函式 `analyze_global_image_features` 定義完成。\")"
   ]
  },
  {
   "cell_type": "code",
   "execution_count": null,
   "metadata": {
    "colab": {
     "base_uri": "https://localhost:8080/"
    },
    "id": "7ofRcO9mVigw",
    "outputId": "e3b7d0d9-c970-4731-a0b3-1dd167b12f89"
   },
   "outputs": [
    {
     "name": "stdout",
     "output_type": "stream",
     "text": [
      "Cell 13: 輔助函式 `generate_explanation_for_image` 定義完成。\n"
     ]
    }
   ],
   "source": [
    "# Cell 14: 輔助函式 - 為生成的圖像準備中文解釋文本 (模板)\n",
    "# ==============================================================================\n",
    "def generate_explanation_for_image(chinese_concept, lang_prompt, pil_img, dom_colors_hex=None, global_feats=None):\n",
    "    expl = f\"\\n--- 解釋模板 for 概念:【{chinese_concept}】| 語言提示: 【{lang_prompt[:70]}...】 ---\\n\"\n",
    "    if dom_colors_hex: expl += f\"圖像主要色票 (HEX): {', '.join(dom_colors_hex[:3])} ...\\n\"\n",
    "    if global_feats:\n",
    "        expl += f\"全局圖像特徵: 亮度={global_feats.get('avg_brightness','N/A')}, \"\n",
    "        expl += f\"對比度={global_feats.get('contrast_std','N/A')}, 飽和度={global_feats.get('avg_saturation','N/A')}\\n\"\n",
    "    expl += f\"\\n原因推測與圖像描述 (請您填充)：\\n\"\n",
    "    expl += f\"   [請結合以上客觀指標和您的觀察，詳細闡述：\\n\"\n",
    "    expl += f\"    a. 圖像視覺風格與氛圍？\\n\"\n",
    "    expl += f\"    b. 主要元素與提示詞的關聯？\\n\"\n",
    "    expl += f\"    c. 色彩運用如何詮釋提示詞？\\n\"\n",
    "    expl += f\"    d. (特定語言)文化背景的可能影響？(例如韓國圖像為何常出現人物?)\\n\"\n",
    "    expl += f\"    e. 與其他語言生成圖像的差異及可能原因？]\\n\"\n",
    "    expl += f\"--------------------------------------------------------------------------\\n\"\n",
    "    return expl\n",
    "print(\"Cell 13: 輔助函式 `generate_explanation_for_image` 定義完成。\")"
   ]
  },
  {
   "cell_type": "code",
   "execution_count": null,
   "metadata": {
    "colab": {
     "base_uri": "https://localhost:8080/"
    },
    "collapsed": true,
    "id": "f7GRGCkFVkWw",
    "outputId": "99342c81-bfa8-47f4-d4b2-00199cbccb6f"
   },
   "outputs": [
    {
     "name": "stdout",
     "output_type": "stream",
     "text": [
      "Cell 14: 輔助函式 `plot_full_concept_results_chart` 定義完成。\n"
     ]
    }
   ],
   "source": [
    "# Cell 15: 輔助函式 - 繪製單個詞彙概念的綜合結果圖表 (簡化版)\n",
    "# ==============================================================================\n",
    "def plot_full_concept_results_chart(concept_id, base_chinese, prompts_dict, images_dict, colors_dict, similarities_dict, global_features_dict=None):\n",
    "    langs = list(prompts_dict.keys()); num_langs = len(langs)\n",
    "    h_ratio, w_ratio = 2.8, 4.0; total_h, total_w = h_ratio*2, w_ratio*num_langs\n",
    "    fig, axs = plt.subplots(2, num_langs, figsize=(total_w, total_h), gridspec_kw={'height_ratios':[0.78,0.22]})\n",
    "    if num_langs==1: axs=axs.reshape(2,1)\n",
    "\n",
    "    title = f\"概念分析: '{base_chinese}' ({concept_id})\\nCLIP相似度(vs EN): \"\n",
    "    sim_strs = [f\"{k.split('_vs_')[-1].upper()}: {v:.2f}\" if isinstance(v,(float,np.floating)) else f\"{k.split('_vs_')[-1].upper()}: {v}\" for k,v in similarities_dict.items()]\n",
    "    fig.suptitle(title + \", \".join(sim_strs), fontsize=11, y=1.04)\n",
    "\n",
    "    for i, lang in enumerate(langs):\n",
    "        img, colors = images_dict.get(lang), colors_dict.get(lang)\n",
    "        global_feats_this_lang = global_features_dict.get(lang, {}) if global_features_dict else {}\n",
    "\n",
    "        ax_img = axs[0,i]; ax_color = axs[1,i]\n",
    "        if img: ax_img.imshow(img)\n",
    "        else: ax_img.text(0.5,0.5,'圖像未生成',ha='center',va='center',transform=ax_img.transAxes)\n",
    "        img_title = f\"{lang.upper()}: \\\"{prompts_dict[lang][:30]}\\\"...\"\n",
    "        if global_feats_this_lang: # 在圖像標題下方添加簡要的全局特徵\n",
    "            img_title += f\"\\n亮:{global_feats_this_lang.get('avg_brightness','-')} \"\n",
    "            img_title += f\"對比:{global_feats_this_lang.get('contrast_std','-')} \"\n",
    "            img_title += f\"飽:{global_feats_this_lang.get('avg_saturation','-')}\"\n",
    "        ax_img.set_title(img_title, fontsize=7.5)\n",
    "        ax_img.axis('off')\n",
    "\n",
    "        if colors:\n",
    "            rgb_patch, lab_patch = colors; n_patch=len(rgb_patch)\n",
    "            patch_canvas = np.zeros((25,100,3),dtype=np.uint8)\n",
    "            patch_w = 100//n_patch if n_patch>0 else 100\n",
    "            for j,rgb_c in enumerate(rgb_patch): patch_canvas[:,j*patch_w:(j+1)*patch_w] = rgb_c\n",
    "            ax_color.imshow(patch_canvas)\n",
    "            lab_str = \"\\n\".join([f\"L{l:.0f} a{a:.0f} b{b:.0f}\" for l,a,b in lab_patch[:min(3,n_patch)]])\n",
    "            ax_color.set_title(f\"Lab(Top{min(3,n_patch)}):\\n{lab_str}\", fontsize=6)\n",
    "        else: ax_color.text(0.5,0.5,'無顏色',ha='center',va='center',transform=ax_color.transAxes)\n",
    "        ax_color.axis('off')\n",
    "    plt.tight_layout(rect=[0,0,1,0.94]); plt.subplots_adjust(hspace=0.5, wspace=0.3); plt.show()\n",
    "print(\"Cell 14: 輔助函式 `plot_full_concept_results_chart` 定義完成。\")"
   ]
  },
  {
   "cell_type": "code",
   "execution_count": null,
   "metadata": {
    "colab": {
     "base_uri": "https://localhost:8080/",
     "height": 1000,
     "referenced_widgets": [
      "e5e12cbfe81d4cf08211a4a02cf02271",
      "ba3de35bfadf416aa262b431d72b684d",
      "c7fa3241d268405d98c68f09524b3ee5",
      "445049738d1842bcba68d46c24efe4e3",
      "6e06faa3b58c4399858f698719d469cc",
      "7f93350aace6403bbb2771c8fbc3edff",
      "ae808376b6e24299a7256deeea23a594",
      "335040b828fc4af1893f33b2922f682d",
      "aa533df302a64a1695bd347e68187e92",
      "6a8a3e17831145ac8a638bb1bb1a72d2",
      "e5815af8b27849e9ae61eb6856b04ef0",
      "76b880a901fb4972b3e0706b87a1073e",
      "ae9c516b67ba456b9b57826c76f24af5",
      "a1d54f440f424abd97e7ba1f14c134aa",
      "785da25e009940cdac073a0af1e50f50",
      "82cfaaad52bf4e7a9c850fab97f4beca",
      "572f3eeddecd40199d75b58c6ffb4c60",
      "255ca13b3aba43c6ba85b926f547a103",
      "5898f3ae15864d8aaf5e0f27bc3f2450",
      "631b872340ad4c298174c56cc8f5601d",
      "ccc4431ca6bd43feba077d025a1d50a3",
      "df313c7476b24a08ab7624176292cf27",
      "fcaf9e69fbe14f96afb9df278359ac6e",
      "55b3261aba4945398668406fb964063d",
      "74d7b6170d234f6494092cfc530ebe98",
      "aadd407d61ea420d89ba7ba03ffdb1ab",
      "fd0432d7f5844a448839385290c86895",
      "73cea35b1e484b07814239bdbd25139a",
      "c3b5a0ebee014eb89002e39c7cb2ee8f",
      "af10784a6a9a4a1c96279d5751d6ac7e",
      "d8b4638df31344e286b4baf165bb8584",
      "1f590525bd96403492ebb0e0bf90f539",
      "4b3aa3815da14fe99f885c5f4ea1074e",
      "cced8f5f51954efa9861742db85e1ea3",
      "e15b4d9688f848a7916d8150a95c2cc0",
      "8928c0d51bd74e809068ff8e19d2f22c",
      "8dcaa3e4e4b64af9a46dc59350f81070",
      "74c0f7eed84542b0b17e25bbeaa0c2e4",
      "6b9adb30ac4c495893aa10eee2b2af76",
      "cf97c9baa6d144849df7b3425719d050",
      "49d5e1ff54f04937b49a9dc4096c0dc9",
      "a9bebd8544e64fe7aa1eb8dd8f88ea58",
      "6f0459a0e3574a399f5265dfb07adb9b",
      "bc08b472484f439d8fe19848c6794254",
      "9b5e772266654de6a03237dfcfc0886e",
      "aa28aa73d7d04bad9c414b924fce3c64",
      "34d444983197433299c056cd4fdcb4e6",
      "197b10ae6c7e43eaa66d0934ad97ac05",
      "dc3fd640b0fb4030926c295b0a2c9a25",
      "ddeaca508f9f4aadaf61abcd41039f06",
      "a505058261d542e0ac1963280a601356",
      "be78dbd2e5464e35b2c7be645b5d13c1",
      "7f3f40ee091942f7b5dc9db105cc7457",
      "d612eeaea82143a5ac37475d71994a2a",
      "51e4bec5dcbb40f28327b860dd302e13",
      "d3390471673e4a2091608015061ba447",
      "9f6989dbd53b4374ad01d4153c7b1ca2",
      "3946d071a7694aecbc217f3daf2def94",
      "fb3ab47e081b4bfe952542406d10f7bd",
      "8483e05fd800495aba90b1585deb967d",
      "9adbe17e54fe4bda81d181f7970fed6d",
      "aec64043930c49d9949960f87910fca3",
      "a23510d423bf4bcfb59f61955f0cdf33",
      "10c0775f754947bb9ecfc10e76219375",
      "1e759ecc3dcb4b2490d2c7a85c06dc34",
      "4d79d49b40164ba5a9fb593446af9f2c",
      "ed8bc9cb10f44205a4a912611660426e",
      "48c7a7801bce44f98332cf2b266b1f4a",
      "8b0f6aa147c74fb3bfbc00ca21b4a8c3",
      "316ac872060d452d8060493d736ac342",
      "8dc046a95c994906a5068fb872719855",
      "cd7b4463e3a84f85a45b7fbcd28b01de",
      "932ba4a327044301afc7f9485f718bd0",
      "10df29668b3f47a599c0d1854be2c375",
      "5503767cd1ea4fa9a7b6f1c8d6a688a2",
      "6d244cd5cc45476284a88a7d7ec5b80d",
      "d1f6b6666b56465fa2b4f1a8abd8473e",
      "29586e060f6e4b63a119de3fb69816fe",
      "2c4bcbebe15a47fb92c24372bdf4cef9",
      "06fe92dc9918427884e22567fc1d92b2",
      "3ad7d4c3cc0f4140999d3457c1edc865",
      "4cfe64212bbe4c88aa4884ab980fe433",
      "d8102de8727d4ecdbf1636bc98e80601",
      "c3a89aab1e1a4f7b9be0c55bfe0b6f1d",
      "e47b2c5463c04721b159e36b61a52a11",
      "e3a9fab66e0a4804bb7f48ab619a41fe",
      "a32152d0056e483e8a7008ea55140317",
      "bf4f749284c0487d87eb59945ef12c47",
      "2e7dd9cd37a14a2180125855b51002d3",
      "b74443dd2ecd4ccfb0fe8387c93971a6",
      "fac9aa0f73a84661b502ffdf786ec431",
      "f15dd166ccb54c2bbd647463356f89eb",
      "4a9c4415612a4c9ab14cdcf275dcb60b",
      "5c1e6234f1dc4354b60b3d7b438ca065",
      "a55a70fbf8c44f3c8fdd860c76221904",
      "a9409e87548e44e9994c20841b8fbc65",
      "88d5b8ce58a2404f86df149e148a7f62",
      "f4a1c1436a8c4c0286777e5bacbe261a",
      "cd0cd99636df4619915aff41a6048510",
      "63019a5f5f31411c854b3c0b2789a5e4",
      "2586aa657ac943cf908181b7a143707d",
      "f16e31c197de4d76ab79edeb3b5cbf43",
      "ad3792341fd849478c87877e3ba3105b",
      "ee95a2ed573f47f999f9d577cfcf4069",
      "c4af2576aa0d412090d13c2566f6d735",
      "bb8ed635887347d3a01d1d453f0806c6",
      "b83782a129274d9da626d4331ee113d9",
      "5c27938043f34667911c5f43ba33b0e8",
      "9e586544b92f46e985e0d1a3baa9e463",
      "9d19d943f5394a4eb2448549afad8e53",
      "e7c8771b72d04dcaab0dad25c7bcbdff",
      "a46e4b3245b2415886be595265acaf81",
      "138ae59017a04bf39e16b8e790714e32",
      "ac88a1dcaa204b08a06ed1bd7b2ec603",
      "90e228b3df7c426d9987cf17cf3785dc",
      "dc1f1816e88e4790a090f317037254d2",
      "4b2291fa8b9d4e2e9191d9c434760eef",
      "43e690b11e00437c8366b933da58167d",
      "78a7786d95e6473699638b19fc5cc598",
      "7807dbf2ef6d47cd971e60673b586bca",
      "c7fa8d9e67cf4f7c8c5ed3eec6f8ae3a",
      "d25aee470ea34f679bd51e30a5c8020a",
      "fdbea2b34c404aa1b955fab27fc6cea6",
      "7a26536277654765998c3c0d2468ce8d",
      "56becab7c9fe45b594d497073eea1a81",
      "4ec2e3d3658c413f9c4c6930b5f2c515",
      "9d6318e25d6d46fc8c0a25b60d97ec3e",
      "8efaacaec1164364bd288a0e37efbe6c",
      "9dba5308b9ab425280d48c2303f9d23d",
      "4f595ac810f9484eada653987b7a8752",
      "8a61093d936340e1b90fcafef20c0282",
      "2ab33a27acef42f5a9bb4d10da0aef24",
      "a4894ef31353480ea851613a2847f8b0",
      "be77fc5bebb1461392563b30f698e7ee",
      "d16109727845489caa687ac5cd459a57",
      "c3aba732556d47cba765bdb414ed455b",
      "d4389882a2d444fdbf90924fac6d2de7",
      "8345ae885ee6491a93f62d9ddca9c4b9",
      "bf3a19e827204ae5b09b6c3a1dc02118",
      "af3141ac1f5642c29e615aae245bc91b",
      "e135bd7bea5247e4915b292fd2725c32",
      "ab13868801804418a955d78db66ab79b",
      "cccdbb4756fe4a0c821b661165082caf",
      "100e8a5622264c1ab30c112254fbc493",
      "a353f073508344bb95a78197ce083f8c",
      "f25ee78c12c94b7c94bcf6cd7dd5f060",
      "b587e0b35e9c419585c186cdee644811",
      "4ad508dfefe544839ec18b1f72778d0c",
      "d456f11636a54cb287867bbfa93ebbfd",
      "59914edadf2c4cbfa6eb123085cf5f38",
      "6f2b08cad64f45f8821e55e4d01c1f95",
      "6d529634d76b4689a729ba93e4381912",
      "7675153b38c7467f9b59f09d91ee8bad",
      "759eaae5e5e1430291f2da4701fde4b6",
      "6d5919c75e924afb9d85d3e673786aa2",
      "9e7b5af4dfe64dfab9b7d98b98f38a8f",
      "310abf97454245a98b1c8168c36b76c8",
      "758365240bb344d587b3e42852d43363",
      "f21cf0ff67ce459387c815469417deaf",
      "fc05f5cc37cd40678ac6a95fe837e6a7",
      "06e2e075a3af4ca18748d455295d5308",
      "d16e46f786684b0ca7c22c1689b13af3",
      "2f8630b20f6f481fad7da27e40dce268",
      "60a990015eec4e948c82340c75169a13",
      "95b8b1275b7c4e25b297998e2cf64d70",
      "f3f73f510c9f48d4bb72dbbeed485f1b",
      "13edda110b2045f2aef8cf49aa0ca3ad",
      "c060768a203c4fe28241de704752369f",
      "b5612e2ab4e548118ac8dcc11b059f5d",
      "38ee876382034b1e9000b39f4d759e92",
      "9ab8cdc86d0743f5b809acfb55ac7f20",
      "a0519f648f254c5ea29d524d70d6b918",
      "e48bbd091a3045ba9759b0cce863047b",
      "ab87768afe234e2686c37cfa7610feb2",
      "4ba8008863fc4697b363ad6993f4c0f3",
      "5e65aa278f0c4118a7c1e937b558beb4",
      "e467a8780f5a44399d7188319a0ed959",
      "2b978fe36dc54190865312a74defe3db",
      "ce7cdb6d8bca481f80744cfd194d4832",
      "4bc70a13366c4985987b59fdac4e81de",
      "e03049f6618d468fac5147b2c8a0620f",
      "cdf8cbfc5e6543af982b1313c2266229",
      "ec31768c998b4ae2846543052e9dab19",
      "8a6db5b7fb3f47ed9a2137dad29cdf1e",
      "52b92658b4754e2bbba97bb6ed228f95",
      "65f1dbd4ea5849b293ccdd59693b1541",
      "4393620ac11442c2877f743a7e22d3d1",
      "356d4238480e4725b5e66e8b96f76ff9",
      "a8dbac7a3a3f4708a675e0a23c8982d0",
      "db28e06b26394fab9a1299fc35cd63dd",
      "89e8ccb85710447b8240b7ed8820a662",
      "471fff8c50aa4547aff2bd802a6c9c3e",
      "f2041a6565a046d497fd5d03c65123c1",
      "b42af5fab62141b9a63266514871946f",
      "5aac993cb7884d579836ddaeeee50477",
      "64e0f3ac26124b8a8d793b728033233f",
      "d8260a95eaf24ba691c2ebb92e293736",
      "1b2de2f4941c491484c2a6623f9624db",
      "3471721086a74902850894eafe9fef26",
      "f91fad39fba54ab9a13d61adb458e780",
      "824dd30f6ef648f5bc04ac05ce472dfc",
      "62cf38ab30874f40a196c9217b5468c1",
      "54c59030895942068202f7151b87bce1",
      "2f0b9c06cc554955a718d57b8c42a4a9",
      "f47f2331a14440c49d0d9b880d2282f2",
      "2fa880ef533b47bcaa9e86ce4b42dbe6",
      "efc4ffba17af4e4f8d14e0fc18b7d527",
      "1dcd3e5b8578423c8490fd5429bcf91f",
      "7654f3ce9f2a43038a27bd2d1299faca",
      "4b919f8e30a547d9be3f356ef5b82684",
      "14e021cae94a4e5f98dde23dde61901e",
      "865d38a6b0c14ed68e7fee834196bb2b",
      "54ac82414a0f453ebc1d6ac059d2c4e3",
      "492db2acaddb44de97d3527532213c2f",
      "df3f7a699f44430daa0c4cf50de6d5db",
      "f7505589e05c43e2b202f5d36276de6a",
      "32a1500762ed410db3cbc5806718b513",
      "df43fdba5500465fbd97637053fa0967",
      "af442be8e19f48bba3ce258187c87c7b",
      "59e4cff8a022471eb0365800e8a87492",
      "fdfe226ba9df4d27a2ea2b32a7ace3e5",
      "a38e32cc66ee495794d02c10870c87de",
      "c250c9518f784474b8f45ff963509d30",
      "266ee14355664e9baab3496634429aef",
      "2d5ca39d9e6043858d15e673049fb409",
      "7f99df82bf054401acf7c795752522ed",
      "512fa6f1d58b477cad07b4393c4a6258",
      "a1e666e2999e44dfaf4abe58edbf3cf3",
      "ab9b27619fbf4f28be2868c9df61a805",
      "cae9d15cb9844492b43381e69c9aac13",
      "c04a0107837847b0861973a929fac349",
      "e4032c1dbf0a430888ea68c929d03335",
      "2beb5f0a9a554afcb61899c40bc0e8ab",
      "83359944e27f4ed2858370407c9ca606",
      "b79ca0acf6344625ba18d16dc3ef9f91",
      "1c9be5d89aa9445297bde2e54c692d12",
      "c53ff2aaad2d4d3c918c230445da135e",
      "9a7f796a53344d41a0871c07cb4b287e",
      "db21ae75bdc341f0b3e853b8883d9bdf",
      "588d7549f95c4896a89a8b287e196384",
      "d55acc2e6c4d44f789c41f2eb5a82c07",
      "7049a6af21b14d0aa605d4c1474829a7",
      "bac0e2ad302847449298bbd490f93cc1",
      "a07b865576394d8caba36c0fb93ca7f3",
      "c60a8201ec7a4fa48dcfae1f263821f8",
      "6bec16d12783491885572947bcd525aa",
      "bd2fc1d30ae94d238d4dd4a8436fe92c",
      "a6f20f05e9e44fea86d31f39fa3c8b30",
      "192424ded78c416dacd1d018eff57a1c",
      "e9ff4fbc88194e2eb0074f947f74f235",
      "7a02d19e295444ebbb6fc907cc34435b",
      "5be9f5d575fc4be9af5333fdcdf38314",
      "0480391c5ab345948103965f7a2b332d",
      "6c42deb2a6874dd58a722c8a8dcc878a",
      "fd75fa4c66614cf6b81960c8be501d8e",
      "cdf9766e78b94e2199cf05e465ff09b5",
      "e6867743469144529eaca0da0c2f8f92",
      "7bde0dc95ce74aa3a932c8f85a13fb6c",
      "0ebdf0a799ce485fab97c94c4854a3bd",
      "5a3f9fe46ea84ba49757973a580f8845",
      "484f9abf509d4936be452ca89e6bfd42",
      "bf3a135da07a4867801954fc41649596",
      "f31c3d30cfe048b38c57e872b8b82292",
      "b7ffe8e74e7c4085a6285a71b0c2a59b",
      "1221df27b1a9488ab4e613d96653150b",
      "fa60a2b17325489cab11499d561be839",
      "509b0d2d810e4db2ab8f5cc9508be41d",
      "a17c346f44694401bd6dc5b77591c702",
      "c8c041e0018c4d6f869547db34769dd4",
      "c259fb1625f54d608bde3bb2bfa004b3",
      "14370a15e82a4ae19c5b366d01f7c4cb",
      "6d2189c2bd664c0a8ea8d8826e7dc17d",
      "4fee7a40755740b48141b4bfdf6ceec5",
      "0ba72e6638384e97aa73f41072d9a513",
      "f86baed96cdc48d083d8254fba0c7506",
      "d9082a73464346b98fc9629b472ca633",
      "13749201b7f942459a610deb436023f8",
      "f34301961eee4fbc997286875b38aade",
      "42002e6600d942299713ea9c679793a3",
      "69f7033266be49a08190e9d65cef99b3",
      "a581ecb85a274e529d2f2e9f13b62ba8",
      "4fc40f208bcf4ce69f3defedb5747772",
      "bac8084669374adeabd2c7780d82dcd8",
      "fd264ef3f44e46249bd18044aa68fc7b",
      "4d0feb63917c46f9b1c8ac8605c7c185",
      "358bfa648dfa4e94859fb2655a7183be",
      "d039753de8554b0790a7eedce8bb6da2",
      "7b93f5c99d0840fbb1eb936b20b0574d",
      "41ada882533c453dac1954abbf7a865c",
      "1c5313acf2414ef59224a0041d8a8fbb",
      "fb41250fa9544c6ca8efcd3ec4f63e74",
      "d68f1038f1db46ab98517fe2ba59d15f",
      "95079a300cd642dea4f588538d882f83",
      "a0d1f116a300457697299a99034c5ae3",
      "d6e86843292a40d4985131c723884196",
      "2bf653650620414dbdd5b48748108400",
      "b64624e7e57540ae88935e8ccd5fd661",
      "a678ae5d05b04f8db01225f023da6e69",
      "5e795b11fafd46e98572d97b1749e3d0",
      "befa34ac51134c77899fa93ade0418d1",
      "f7420a4b8baf49ffafb7cb2094ee4e5a",
      "fbf62e7459944eebbfb21e76f3a10b81",
      "6f5f759a194446d99018696493ad8f1e",
      "f616e887f07d4a4ab2b66b800cfd3e8b",
      "abe8dfa3494b46c8a428bae28ca7323a",
      "df01acb7e2d0404e8cb357cf14926c0c",
      "63cd2ae70a3844a3bb697765f8484c20",
      "ad7b7d4d3f994763ab4dbebc584cb850",
      "690844a03fc34b30870d590bec9a890f",
      "2b4990ad884644739b9bc99cea426911",
      "3394083ad0284580a0aec7313f8736fc",
      "8a88e540d1274b0a9b8ad8a7d302a6e0",
      "ab92f6b228d74049a2d95263ba290743",
      "adb81d5db85940f8ac0e1a78d50de55a",
      "7c6285767d4242efae4d0f283c7b1c45",
      "ba37d17cb67844fa91148bd554160f5e",
      "bb1fd81602714ca0b254e7faafa043e9",
      "f7925ab3c47947418a69abcf702ebe0c",
      "242a6538f1194487907801256916086c",
      "b3b2bf26e1574360ad87cc054edc9de7",
      "4faa5aef430940bd996a3ecfdc681305",
      "60e0a26a09204dac9184855f934b6819",
      "8c43d392e35240abb362c9536f2501b3",
      "b949aec65497414e9ffe71051be7dd46",
      "1a08d674e4e245cdac0744724b3070d4",
      "36b5675ff88340ddb1636eff89963959",
      "b2b2bbd648d3412dbd908866998d256e",
      "5befa69a9e6945d9b0acf56e7036e215",
      "85c7c775684949a19ce00b505e71b87d",
      "0168025acebc4ec1abc99f14a2f3a4bc",
      "cfb9b2da37fe42f2bcc87caaa0533469",
      "b065864e425a458d9da30d56ade9c19e",
      "576d4cf355154432b29b9862f33abb3c",
      "125fe1ecc35a4b75b758baeab477f8d6",
      "132e0a6ea05a4032b4e7d76b82547166",
      "3ab42b4bcf4847ef92a103dc3faed971",
      "82f584a6c2a84020b024c0a75d5b69b2",
      "cd2774ecd14e43c58b71f3d53548cbcd",
      "9f095cd8bc054c5aa1e3b58b0e85223a",
      "b73759e10c72488fa6b7c603ebe4168b",
      "a192597487704b74b90641901e6f5b79",
      "a29f715d95004ce8b2184360fa117f60",
      "de7d1a8e60364b9a93eef2f4fe3c4987",
      "7a47efc9a8c44fd48f29c8273225e6c7",
      "875a0d59c5e547b89b32c2c86c5fea92",
      "2c8453be46054159a93e1449076ee3e7",
      "bfb26af12d0a48c58fd5303a5d878a8b",
      "621389b95f1b4cc4acc302f2705ca24a",
      "5fd38f494ff74b1b9c5fb50f9dbf72c3",
      "f06e885e28304b33a958751d9e5c50cc",
      "aac7d1e8395d4efa966be32dc772b6f8",
      "37a043b66cc44cc4a2a08a1a266f55d0",
      "3343331cc3394e5b842a91e2d0e73ac3",
      "32aac5750f90432aa8b78ca6618e839c",
      "51a1a1dd73664e47b13dd979c8ca7f97",
      "63abef8b880b4a9b8c5ccf770ff68a24",
      "55ffb2f1f4554927b89ef5ed73cbd937",
      "e3c46e6a4fcb472ba87a536fe3dc1a95",
      "94f6af6a60ea42539ce5731e26378499",
      "7fe0b25476b84401963a932709c7d641",
      "a7d1e6d4e2b44ee0889e22b036c03592",
      "888137c4323a4186b45fb8ad1789e2ee",
      "072152216d4d472cae159a9f6720b6e0",
      "36f361be820f4684a529f02c9cb7b818",
      "c3d14954af9a4b14a1aaed3d690c0e56",
      "9441541b9dfc4e5d8e3191e8a1ddb9e8",
      "1df0e6aef71844959ac02c16f20e0c28",
      "73a86a7489a446e3956ab19795cf3ca3",
      "6c8ac843db924cb9b629a40fe6948203",
      "80ca58353f2743bb94579738ee580b35",
      "7a4eedc04242479093545e111620e617",
      "81392d088dd14948b18bf02db04b6bfa",
      "002effae2dc54c17b350efca469718b1",
      "f805076460e34328a7130dffa6ebdaf4",
      "9e903d1a83094993b487362ac230748d",
      "b312c2af7de94536a4490c1710b915b0",
      "2406ab36b75e4e8781435ab87c6ca89d",
      "f982c8d66ae4453dad0fbe6a30ed2f43",
      "03a3efe1ca174276acf94be5e5b1c25f",
      "287f0903c48a4d90a6750ce7583488a5",
      "edc537777768436f8e33a3b9b8ccfc4a",
      "a5affd35b46d40cca87c4ba4fa18b2f7",
      "a62c3d72e69b4c1a9a5e48d6eaacac54",
      "ca56c6d0d4d048f1823af246f0af54d4",
      "15b1ec1abb114b439d0e04bf7ad836d0",
      "7d8b98125c2943358c6fa543b6e7edab",
      "86930400a9b84ebd8fa6831203d56331",
      "ee12ad883ccf4d50948281fed7159459",
      "3b4e67f324334568b6f2f967f560d8f6",
      "2ddac24c39f44a5b9db48cf6b65b4420",
      "46f48e7ed8f947f691a1125777256bda",
      "470a540ed6dd498d8b49d1454c255e2a",
      "2d0b5a21d8804cfa905e8dae100a5f27",
      "93acde2500434716abfebe644de43337",
      "940af7971017409da0638d4350f00ebb",
      "4099b9fe55c74f01bd4c64c1299ce610",
      "c9a3ef1a5c6b4e6e98bdad5ab9680a31",
      "1bb4e920f8054f83854dd9b02e136389",
      "753227583b9746c3acafa4f8fd40691e",
      "fddfa2c80ba345a6a43bef2c6737fb22",
      "9572dde7f8bf49e08ae94ff23edc55a8",
      "3a0c8f68a50641b4b9527f2e29cfe8bb",
      "b3a4244648ee4ec8a12c4f956b140327",
      "ab1909d646de40bfbebe7673e9f0ae5f",
      "196745f5ab264b828d9165cd5cb6db05",
      "40b2cf9b27cb45188afaf303b430e139",
      "1f8433cb6d6348a5ad2d805bdbef6514",
      "67bd96c880e9416c9613a6f38539a3ff",
      "9bf5ed7168cc4e838f6fb07dea754882",
      "a191abb8765d4704a57e9f291e243366",
      "0ec9242bbe804bbbac348bdf820c251c",
      "102a840823cf42638460fe8d9a0396f5",
      "336c240a80c645dca2b46b0268931077",
      "f46648cb11b6463a993a17f9f019b6d8",
      "59d8291d0cf1482590aa4327f666296b",
      "16a7b1b692cf4109986773a07bfc3805",
      "0a1f69229682481298f30bf1a24414ec",
      "111014aaa4cf476ab49dd249ab8d1a19",
      "fd5a70a4cf7c476382cb2b98a8f3da57",
      "2d785aae636a4e729b5f8e43c7533e5c",
      "45d5213ac26e498893649240d0bf5eb9",
      "28233307c6c84e8c9104a81dc4eead53",
      "8cb2eec55f89476dae95d1a845d39876",
      "62e137247cb342908fa87ae70b2a4f8b",
      "dba1ef0e633d4452802a0eece958b4c7",
      "c35c2e5a174b4e44b2c3d501d34833c7",
      "f5eb2fcfe069477fb133ac9532dffc12",
      "00b0610c48264bb89e884137609bafa0",
      "23b7cdd4a1cd414cacdf094aa9f4ef2d",
      "00800fc430624b48a3975f6b93407616",
      "961ea04532d34a2faa9cac6edd06f797",
      "06b064ebaf084f0c89444d3e413dd629",
      "270ce78bd84042a9be12c6f99bc05d7c",
      "e4ea9953913d4d588cb51a79d90961be",
      "1cb3c3698fc84b1ea423a9c8512bd4b0",
      "3ae1732ecc754e4c9ff565864f03b627",
      "7da7758617c54abf9e2bebb9a5117ac0",
      "38617ecda3044eec9629282d02fa3ab3",
      "e00e1c878a174643a3eb4d043c5444fa",
      "256401988a064e71b2e64bd70f6483df",
      "6d09035f2633481293e960bf99e5561b",
      "fb09558382bd4723a6ed8f40a4dc94b5",
      "83dce12cf33b4fb1a368027fc064650f",
      "8b704edcf1ad4f1abe30d7ec3c8c39b7",
      "be06bfdf26ab40c2ae6928e737c8e1ce",
      "6f57fca1a51d44e895b47d4d0b6a9376",
      "2c56c63770df454fad2eefd15e97ca42",
      "2069ea174afa4d2fbff4efedcf36761a",
      "dd99fed5f40246f4b21642bc8c4d99c9",
      "fad1a1dc96a24699b58fa5e1fd4aebb8",
      "c15bb6529f124f5fa87216e897c3da5b",
      "c77f579d00bd41a68faae1afad36cb82",
      "f8f8bf74550a49b295f49a6797f4b0f4",
      "08d70253214c4b72825faf1186fe6ab5",
      "2b4457f3e54a4842bad7209dd434f439",
      "be36bc3dd78e4d1fb45f175ff12b78b6",
      "b8e1455ca9e64634be6da2d5011f3996",
      "6bf586cb6e264e0db68300cd9e75025e",
      "63657078da9749b6a601a213053ddf29",
      "58afd445d66a4e28b692f59d2dc1d129",
      "152871074af147a99fe70583326a3fc3",
      "4b3ad500ab2041a4b6c951da49125bc9",
      "2c6a64db425f445eb00adf946c7ec8bc",
      "e42be15ffa544eb2b01f848016313274",
      "e378882ed8ff401dbee4870ac3210669",
      "012410625b574ef9bc49cb6d3de65140",
      "f72994e9061246e9a5a2676e08afab8a",
      "230ab5bc6c66437596a1afe341f7caa9",
      "7f8d677ff9604f76b20bfa5e7758c701",
      "546b97b680434725b49b35c6075f6e75",
      "475ea9314e89499da8096904a5dac1bc",
      "8ea1df794a494f7489da090023529da5",
      "eb8ddba4eaa54ee89237d0c50ca2be79",
      "e6c03f740d684b318cb74874b3eac428",
      "1c8e79dff5ad4b3a888a4cc55b18a2c4",
      "0917381eeae7409d8e670fbed7dc5632",
      "3ab4c7b7ef7c4c7db316098691e2be0c",
      "cd2867f92da84f5a970e02346088cccb",
      "c52d90bf4c3d48fc8a9f844b82e74af3",
      "da23ef14b05f43029b549fea2d72a052",
      "c2c55f4849ec452d9b2a4a0611feb9ce",
      "813b4d5bce5242bb81e1de2a3f32c609",
      "7953a07fea124148bde31fecfa1cc919",
      "3bf582d9b3774a15a2e06789a0caa5cd",
      "8348e1abe8144e369cebe1b26645147b",
      "c5311affd2124e9b8a739d80b9075583",
      "0ec59e96e34a4a518dec20652f0421ed",
      "232dd9808eda46f7bd5e933e973c7c0d",
      "35c5d769239d4dcbb245734edae43de6",
      "11342648206a4b479df4c576d15b510f",
      "84368fa28eba44038971e02243a5ea9e",
      "603d226f6a6d4ad39a6f2bd78c4db425",
      "90e1adfe66154e73ab4df8154642a26c",
      "2b7905eb342142f996320ba317c0351a",
      "66441b31f4024fd0b5e2ecec9a8d6289",
      "c9dac6a61c5c4b569d7d1562d9ee0a49",
      "d75554d89f8c4415b9dc6f4fa3a6b838",
      "e77a0b3c80df46739ae1ab60e3d8caa6",
      "05f45ae11b0348559a9feaba652c531d",
      "bcd5b0b1ca82419e8130275ee23dd360",
      "cf3a74d77f8344d9a03a505e73222b12",
      "87f47ca0472b4134ad15f7d918f134dd",
      "e1786f0bcfff45eba44ff3ecdb942af3",
      "47edece281044fe7958cd7ddb7cf3e79",
      "22efdf1ff7d44679a48d64353f9ef76e",
      "af9bba1d75744042a01908560535121b",
      "d7c349ac5d9445549cc2ffb271a397f3",
      "72e4443868d64042b1f3139147c071fe",
      "21b970d47c1547b4bd5d1d98d5cf657b",
      "a3ca4c6ab51147deba1f078d0c7f47cb",
      "010eff0895764b7f98529c7995e6dd65",
      "0cebd924c0a44046bc2bdcac844e2194",
      "a2afd26cb52d4c609a760ecba5191278",
      "6d4b28d5d08b4bc7a22695aa26cf8dac",
      "4d8bc40eea434b04acfe02e810042643",
      "73ef2162788d4f39a94b993465f3d3ca",
      "cc950d1c053340b8b6d8dd9af8aa6e82",
      "b664c04dae254ffdb9bebc820cd51e06",
      "ce5357a3f6284689bb631e54995faf41",
      "bd4d51d98fad47db96c39c1abd8c7018",
      "c003b72bc95242588016380076d3eb21",
      "93f18ac45e8a464f9d620cbd1fb42a1f",
      "bca6851d8e634eaf8ea039d9f7512988",
      "17d89952b5334226b04cdc6e98c06e62",
      "c956876fbe344a2d9e71168834e118b4",
      "8c5f5a7b0c4d49fdb2931e4585a926a2",
      "02071bc37a104399abbf869e1d46d5bc",
      "e475899ff1eb424293eea0883c306b98",
      "c4aa15f8635046b8a63a2fb391bfb3ba",
      "37e7c123e6e84fcbbfd4cc38102b386d",
      "65bedfd4b2de4286aa4846c84150c5d7",
      "ea2149d4a6a3484cb5fbc47a8ded977a",
      "9de3e4228206425d892f7f4a2c2293eb",
      "e619708d782447609e5e52a760d26c6b",
      "46acc327fe16471daf2f7e0359bf8918",
      "760971adfda44727ba84effaeca7b91d",
      "b9bc4227a48b4b3bb18ac5073cbce786",
      "cf581709f94e44568fc6f70f9b7f63be",
      "1980af635ae844d7b1a5e6f4c9bcad8d",
      "20ee40948c974ccfb6ba39b89a1e6e58",
      "599ff14e0e50459cb2dcea789ff423ed",
      "b77e8e5fbe814d9bb65ec68cdf429535",
      "f7170d1782db4cb8b3a100e38a9b0bc0",
      "f11a29a40c4440e2bddf2152e9333274",
      "e74b9b725e90490b8f11ac6c0e462fc0",
      "1e1a1b1039ce427685727c8377f400d0",
      "efffaa6785fd4d668e521c8a46c06d6b",
      "b78466a04c374199a6fee59e77611fa6",
      "978f3c05f3264e37a519d00e445cb42d",
      "058676e1403a4053b4f64191aceeca50",
      "ef044faff3774451ad2e49419276fb22",
      "f8532b0a58bd4c6686c8fdc74536ba0a",
      "c09ac55164d04999a0fe1001cd73d7dc",
      "da16467c8eb7436386e6e954d01345b8",
      "993b2f11af6a43febcb246621c0baa21",
      "0d589bf574b44fb6a4773360d3bbac53",
      "e32de05defa841d0ac3f3d0e7b12f08e",
      "e67fd2e6f4eb4c3a90a53626007a5233",
      "9ef2a917ba3a493b9c94ba6c27497dce",
      "4b7a1c7f587a4f8c99c93a796d5ac4c8",
      "28bc192f7f814865a8a8198fd7848fa4",
      "6b858fc925b34ceebfb862cfa7cda242",
      "72e121a05420481ea9ff385aa80c8e51",
      "3b27b3ade4114f899a887ead22eea909",
      "db1f2e52274746d298bdf22358894c8f",
      "0f1694b9a7ce41b294f6a0ebeb8ae3e4",
      "9da83926eaaf4e56a0f72e32fd0bc151",
      "53df11c2776648d8bd3ca0d762946335",
      "144699833c9c41e299f0a3d2f549cb11",
      "bcb86f460bfa4d66b520cbb794746e58",
      "1941dbdc4b424f6dae8c5b07ee745d27",
      "178088e83f014ba587b7d02c34cbf74c",
      "c2a610901933442caa73ed829b7400ac",
      "9a7e2af8eca24e14b7a42dc962d713a6",
      "adafa094d6a341e8b062e884ba4682ee",
      "f9de2445df5f4ca9866af5863610cd69",
      "f565ec87672b4db1b00a408c6e29544e",
      "46f20e8d1210421d8ef956668978eb32",
      "d400dae49bd64b80b674f509eef2bb5d",
      "af2785a990c646d484784e398959715e",
      "8bc1936f845e4a8fa7d74de40782bf73",
      "6603dde77ba84ff7b234457ff366edfc",
      "66dd78abe5754ba9b3de9e0bcf2a073a",
      "aee97dc55a8849adb44796c726b1bbd6",
      "d76423b16f334bd9bfa1da6e938164c8",
      "086c899eff6a44328ed3a528b97c13c2",
      "f9b9ee8a57af4e6bbe9290d2b514a8a5",
      "f8949675b83541fa866f6000234aed93",
      "d08b221c211e415f8e8b9860500bda23",
      "1d36f225a42f478c81c058580c3f18a0",
      "4c27e843229d4912a73824c11dc36f35",
      "c41d6a2fce644a53a5fe0d15f8cef8e6",
      "acc1f3973fad42678d2ddffd1600b52f",
      "cd4a08079afe46ceaa3ae57625d7acea",
      "d3255a5ddac843c3ba2131e6ceda5ba0",
      "6428850f5e9b4fcea1b6aade7478d6a3",
      "0de7c09209d344369f9febbe9b458586",
      "3fda1ebf1a124058836ca736b7d9e10a",
      "a36bb5da1fab4b799d755097226c53eb",
      "ec2b880b3a664525bbc3b6315ca12d3d",
      "0df9b9c81e2e4bd8946727b0f76c63eb",
      "63566212b7aa43bd8144d8690fed84b2",
      "0436837bfb124f88a7a605c17bd20aa8",
      "69b0c6bf126d4a00aa56da8844a2dd0d",
      "12260e67b5664a5faa56c32c455bf798",
      "129b6102d0ab414ebc72f1e94f71f2ea",
      "a8d4bdbf6d5b4b9ba9983041c0dc8961",
      "1962431dda734a2e830ef5b305d535c0",
      "fe04bab2bcae4b8fa207844cc5f44420",
      "da910f1e04c14263b90d0b881479f680",
      "4fb2353444834fe695f41b0ed7006125",
      "f0cd04e71a5f4a3fa257793183988c68",
      "ac246acab1cb4a6c860383060112f1fe",
      "81dfff3d7b2b48388a4867c5c7d2d12c",
      "470db3d19c3847d6aa5e941e325e25ac",
      "9b609c9edcd84944b571c7b117278e48",
      "2fdf4cd8f7de405d98ef36382e8d50eb",
      "dd785d33204f44f38c249ad027c3b66e",
      "903c6b7834e54912bfde0cbae5dc45d6",
      "5712326c566542fc8c3eaa0f70d01dbb",
      "0e69af99398d4a208d6783469a30d8ef",
      "2a2e83b01f6b4c2db922555d9776dfc9",
      "8e0ba3f2c78142d69b6bc718e5795dd9",
      "d81d36c7726a4032a5105a053c1f76ce",
      "960ec109528a42fbbf79d580b2c252f3",
      "c0faabbc7d1845d7b3c0606af41a4c2c",
      "81933061f44e4bd288db28c9777419c4",
      "71f9c906eae446df84137fc48c5681b3",
      "75874d4ffc9b4451a8a03d3487b5ceec",
      "031099a19d6c4bf093194d6769722f90",
      "156744ac4e2d4b7babf221e92d5f1386",
      "9c7b9335565c4971a160b45da05109f9",
      "67300975cd7648adb7a9b4fa23349541",
      "6f46e8ff6ba340fab01c69a64870fcdb",
      "0f8fa22e66024dab982e19ed61febe24",
      "54c8d26197bb40a3a6023b9df5769f92",
      "1a4bb581973c4e9099a723271d2ea782",
      "3d28a464681f47179d116b46fa9309c6",
      "214e74b177834e219fd49b5d1dc45f33",
      "5dd2976fade04fa98b1c21a5bf498d21",
      "d24297ced11141aa997ad6b6b0e46e81",
      "d4c7591f42474ff0a54f59944e40af3c",
      "903aae1d9c2849f786da02f21666d5d2",
      "e1c62e98f79540688767ca1581ceafee",
      "596774c23572447b904a6350cca2e906",
      "9786bf6342e74831a3bcae3d6b442f60",
      "3ab1218fb9de44f2b3ee7f1fa979832f",
      "99d8f03443254653b2066255690c4e27",
      "063550095b7940dda63e92519ca1a7a4",
      "58698f77fa2b487dac96180b06a065e9",
      "79aab9d69dea4358b70c4c112cafd273",
      "22b5dd25c42d407ca0449401c1122a6a",
      "8d34b2284bee4ea3b795229ee6864961",
      "110043fc5e554110961fe556a142ea7b",
      "38cc2c4c28cd4fbbb36fb0a7744d7734",
      "411ab73b4c8a4586a8db38edf038f5a7",
      "5a3e1c3ef4b94733bc119316e17df1bd",
      "cf6292b1288d4cef955e6571235694b0",
      "bcca06135db04304a4f94da8c4e80e9a",
      "834a2af4644c412bb6a8fd1b0965bad0",
      "47a3e6a8c151472080e40ad29f61dd33",
      "59cdc55bc54e4aff9b1451b348d384be",
      "a344238284974220a641244c1406c5e4",
      "cb8f64e186e948d694a006a50854f13d",
      "801b4e12c0c440a38054427a54860a7a",
      "e701892479174c758d77eda064f62975",
      "615ad19f1db74d438cee42700afa850c",
      "93ca049183114032acedf1105d5774e3",
      "4baf8726bf214924ae7668a782a05e46",
      "9efee04325904fdda7ba4329989d1c34",
      "1f4f9cb08f794fdc8d94d4c092f8a6b4"
     ]
    },
    "id": "l4xIWQ2ddo63",
    "outputId": "eeeb4289-f869-4cca-c115-a2f4d139245d"
   },
   "outputs": [],
   "source": [
    "# Cell 16: 主執行流程\n",
    "# ==============================================================================\n",
    "print(f\"Cell 15: 即將開始執行主流程，處理 {len(word_concepts_to_process)} 個詞彙概念...\")\n",
    "BASE_SEED = 20240101 # 可以更改基礎種子以獲得不同的圖像系列\n",
    "SD_STEPS = 22 # 推斷步數可以適當減少以加速，20-25通常是不錯的平衡\n",
    "SD_CFG = 7.0  # 指導比例\n",
    "NUM_DOM_COLORS = 5\n",
    "SAVE_IMAGES_FLAG = True\n",
    "IMAGES_OUT_DIR = \"project_outputs_final_v4\"\n",
    "\n",
    "if SAVE_IMAGES_FLAG and not os.path.exists(IMAGES_OUT_DIR):\n",
    "    os.makedirs(IMAGES_OUT_DIR); print(f\"  已建立圖像儲存目錄: {IMAGES_OUT_DIR}\")\n",
    "\n",
    "results_collection = []\n",
    "\n",
    "for concept_idx, concept_detail in enumerate(tqdm(word_concepts_to_process, desc=\"總體概念處理\")):\n",
    "    concept_id = concept_detail[\"concept_name\"]; base_zh = concept_detail[\"base_chinese\"]\n",
    "    prompts = concept_detail[\"translations\"]\n",
    "    print(f\"\\n\\n處理概念 #{concept_idx+1}: '{base_zh}' ({concept_id})\")\n",
    "\n",
    "    print(\"  [1. CLIP嵌入分析]\")\n",
    "    embeddings = get_clip_text_embeddings_vector(prompts, clip_model_instance, device_to_use)\n",
    "    similarities = calculate_and_print_embedding_similarity(embeddings, reference_lang='en')\n",
    "\n",
    "    print(\"  [2. 圖像生成、顏色與全局特徵分析]\")\n",
    "    concept_images = {}; concept_colors = {}; concept_global_features = {}\n",
    "    concept_explanations_str = \"\"\n",
    "\n",
    "    for lang_idx, (lang, prompt) in enumerate(tqdm(prompts.items(), desc=f\"  '{concept_id}'語言處理\", leave=False)):\n",
    "        print(f\"    -> {lang.upper()}: '{prompt}'\")\n",
    "        img_seed = BASE_SEED + concept_idx*100 + lang_idx*10\n",
    "        pil_img = generate_actual_image_with_sd(prompt,image_generation_pipeline,img_seed,SD_STEPS,SD_CFG,device_to_use)\n",
    "        concept_images[lang] = pil_img\n",
    "\n",
    "        if SAVE_IMAGES_FLAG and pil_img:\n",
    "            try:\n",
    "                fname = f\"{concept_id}_{lang}_s{img_seed}.png\"; fpath = os.path.join(IMAGES_OUT_DIR,fname)\n",
    "                pil_img.save(fpath)\n",
    "            except Exception as e: print(f\"      儲存圖像'{fname}'失敗: {e}\")\n",
    "\n",
    "        rgb_cs, lab_cs = extract_dominant_colors_from_image(pil_img, NUM_DOM_COLORS)\n",
    "        concept_colors[lang] = (rgb_cs, lab_cs)\n",
    "        global_feats = analyze_global_image_features(pil_img) # 分析全局特徵\n",
    "        concept_global_features[lang] = global_feats # 儲存全局特徵\n",
    "\n",
    "        expl_text = generate_explanation_for_image(base_zh, f\"{lang.upper()}: {prompt}\", pil_img,\n",
    "                                                 [f\"#{c[0]:02x}{c[1]:02x}{c[2]:02x}\" for c in rgb_cs],\n",
    "                                                 global_feats) # 傳遞全局特徵給解釋模板\n",
    "        print(expl_text)\n",
    "        concept_explanations_str += expl_text\n",
    "\n",
    "        if device_to_use==\"cuda\": torch.cuda.empty_cache(); time.sleep(0.05)\n",
    "\n",
    "    print(\"\\n  [3. 繪製結果圖表]\")\n",
    "    plot_full_concept_results_chart(concept_id,base_zh,prompts,concept_images,concept_colors,similarities,concept_global_features)\n",
    "\n",
    "    results_collection.append({\"concept\":concept_id,\"base_chinese\":base_zh, \"prompts\":prompts, \"similarities\":similarities,\n",
    "                               \"global_features\": concept_global_features, # 保存全局特徵\n",
    "                               \"explanation_prompts\":concept_explanations_str}) # 保存解釋模板\n",
    "    print(f\"  概念 '{concept_id}' 分析完畢。\")\n",
    "    if device_to_use==\"cuda\": torch.cuda.empty_cache()\n",
    "\n",
    "print(\"\\n\\n所有詞彙概念處理完成！解釋模板已在上方打印。\")\n",
    "# 可選: 保存 results_collection 到 JSON\n",
    "# ... (參考之前版本的JSON保存代碼，記得處理NpEncoder)"
   ]
  },
  {
   "cell_type": "code",
   "execution_count": null,
   "metadata": {
    "colab": {
     "base_uri": "https://localhost:8080/"
    },
    "id": "nB2p24lZdrq_",
    "outputId": "340d77ba-f6c7-42d2-eaed-e0d5ef7c392e"
   },
   "outputs": [
    {
     "name": "stdout",
     "output_type": "stream",
     "text": [
      "Cell 16: 正在嘗試清理模型資源...\n",
      "  模型和資源清理操作已執行。\n"
     ]
    }
   ],
   "source": [
    "# Cell 17: (可選) 清理模型和資源以釋放 VRAM\n",
    "# ==============================================================================\n",
    "print(\"Cell 16: 正在嘗試清理模型資源...\")\n",
    "if 'clip_model_instance' in globals(): del clip_model_instance\n",
    "if 'clip_image_preprocess_fn' in globals(): del clip_image_preprocess_fn\n",
    "if 'image_generation_pipeline' in globals(): del image_generation_pipeline\n",
    "if device_to_use==\"cuda\": torch.cuda.empty_cache()\n",
    "print(\"  模型和資源清理操作已執行。\")"
   ]
  }
 ],
 "metadata": {
  "accelerator": "GPU",
  "colab": {
   "authorship_tag": "ABX9TyOXgBP47bwSnuVCRZrC3Reu",
   "gpuType": "T4",
   "include_colab_link": true,
   "provenance": []
  },
  "kernelspec": {
   "display_name": "Python 3",
   "name": "python3"
  },
  "language_info": {
   "name": "python"
  }
 },
 "nbformat": 4,
 "nbformat_minor": 0
}
